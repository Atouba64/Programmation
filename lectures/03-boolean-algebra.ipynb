{
 "metadata": {
  "celltoolbar": "Slideshow",
  "name": "",
  "signature": "sha256:2af5b1df686e02229f540cef826c84a0a287a1c11d2685af521048a365c3cda6"
 },
 "nbformat": 3,
 "nbformat_minor": 0,
 "worksheets": [
  {
   "cells": [
    {
     "cell_type": "markdown",
     "metadata": {
      "slideshow": {
       "slide_type": "slide"
      }
     },
     "source": [
      "# Boolean algebra\n",
      "\n",
      "In the field of *mathematical logic*, Boolean algebra is a sub-area of algebra in which the values of the variables only have two values: *True* and *False*."
     ]
    },
    {
     "cell_type": "markdown",
     "metadata": {
      "slideshow": {
       "slide_type": "slide"
      }
     },
     "source": [
      "Boolean algebra is important because everything in a computer is represented by \"bits\", i.e. binary pieces of information which are either *True* (1) or *False* (0). Hence the algebra underpins many of the internal workings of today's hard- and software.\n",
      "\n",
      "Boolean algebra is named after the English mathematician George Boole, who first introduced the concept in 1847."
     ]
    },
    {
     "cell_type": "markdown",
     "metadata": {
      "slideshow": {
       "slide_type": "slide"
      }
     },
     "source": [
      "## Booleans in Python\n",
      "\n",
      "We have already seen that the Python syntax knows about the boolean values:"
     ]
    },
    {
     "cell_type": "code",
     "collapsed": false,
     "input": [
      "print True"
     ],
     "language": "python",
     "metadata": {
      "slideshow": {
       "slide_type": "fragment"
      }
     },
     "outputs": [
      {
       "output_type": "stream",
       "stream": "stdout",
       "text": [
        "True\n"
       ]
      }
     ],
     "prompt_number": 49
    },
    {
     "cell_type": "code",
     "collapsed": false,
     "input": [
      "print False"
     ],
     "language": "python",
     "metadata": {
      "slideshow": {
       "slide_type": "fragment"
      }
     },
     "outputs": [
      {
       "output_type": "stream",
       "stream": "stdout",
       "text": [
        "False\n"
       ]
      }
     ],
     "prompt_number": 50
    },
    {
     "cell_type": "markdown",
     "metadata": {
      "slideshow": {
       "slide_type": "fragment"
      }
     },
     "source": [
      "Which are variables of type `bool`:"
     ]
    },
    {
     "cell_type": "code",
     "collapsed": false,
     "input": [
      "print type(True)"
     ],
     "language": "python",
     "metadata": {
      "slideshow": {
       "slide_type": "fragment"
      }
     },
     "outputs": [
      {
       "output_type": "stream",
       "stream": "stdout",
       "text": [
        "<type 'bool'>\n"
       ]
      }
     ],
     "prompt_number": 51
    },
    {
     "cell_type": "markdown",
     "metadata": {
      "slideshow": {
       "slide_type": "slide"
      }
     },
     "source": [
      "Be aware that *True* and *False* are case-sensitive words, i.e. this does not work:"
     ]
    },
    {
     "cell_type": "code",
     "collapsed": false,
     "input": [
      "print true"
     ],
     "language": "python",
     "metadata": {},
     "outputs": [
      {
       "ename": "NameError",
       "evalue": "name 'true' is not defined",
       "output_type": "pyerr",
       "traceback": [
        "\u001b[1;31m---------------------------------------------------------------------------\u001b[0m\n\u001b[1;31mNameError\u001b[0m                                 Traceback (most recent call last)",
        "\u001b[1;32m<ipython-input-52-a2a21570fba6>\u001b[0m in \u001b[0;36m<module>\u001b[1;34m()\u001b[0m\n\u001b[1;32m----> 1\u001b[1;33m \u001b[1;32mprint\u001b[0m \u001b[0mtrue\u001b[0m\u001b[1;33m\u001b[0m\u001b[0m\n\u001b[0m",
        "\u001b[1;31mNameError\u001b[0m: name 'true' is not defined"
       ]
      }
     ],
     "prompt_number": 52
    },
    {
     "cell_type": "markdown",
     "metadata": {
      "slideshow": {
       "slide_type": "slide"
      }
     },
     "source": [
      "*True* and *False* behave like the numbers 1 and 0, respectively, and can be used as such. For example:"
     ]
    },
    {
     "cell_type": "code",
     "collapsed": false,
     "input": [
      "print True * 5"
     ],
     "language": "python",
     "metadata": {
      "slideshow": {
       "slide_type": "fragment"
      }
     },
     "outputs": [
      {
       "output_type": "stream",
       "stream": "stdout",
       "text": [
        "5\n"
       ]
      }
     ],
     "prompt_number": 53
    },
    {
     "cell_type": "code",
     "collapsed": false,
     "input": [
      "print False + 10"
     ],
     "language": "python",
     "metadata": {
      "slideshow": {
       "slide_type": "fragment"
      }
     },
     "outputs": [
      {
       "output_type": "stream",
       "stream": "stdout",
       "text": [
        "10\n"
       ]
      }
     ],
     "prompt_number": 54
    },
    {
     "cell_type": "code",
     "collapsed": false,
     "input": [
      "print True == 1"
     ],
     "language": "python",
     "metadata": {
      "slideshow": {
       "slide_type": "fragment"
      }
     },
     "outputs": [
      {
       "output_type": "stream",
       "stream": "stdout",
       "text": [
        "True\n"
       ]
      }
     ],
     "prompt_number": 55
    },
    {
     "cell_type": "markdown",
     "metadata": {
      "slideshow": {
       "slide_type": "slide"
      }
     },
     "source": [
      "## Basic operations\n",
      "There are three basic operations\n",
      "\n",
      "* **x and y**: True only if both x and y are True; False otherwise.\n",
      "* **x or y**: only False if both x and y are False; True otherwise.\n",
      "* **not x**: True if x is False, and False if x is True."
     ]
    },
    {
     "cell_type": "markdown",
     "metadata": {
      "slideshow": {
       "slide_type": "slide"
      }
     },
     "source": [
      "These operations can be illustrated using a so-called *truth table*, in which we use the numeric values for readability:\n",
      "\n",
      "| x | y | x and y | x or y | not x |\n",
      "|:-:|:-:|:-------:|:------:|:-----:|\n",
      "| 0 | 0 |  0      |  0     | 1 |\n",
      "| 0 | 1 |  0      |  1     | 1 |\n",
      "| 1 | 0 |  0      |  1     | 0 |\n",
      "| 1 | 1 |  1      |  1     | 0 |\n"
     ]
    },
    {
     "cell_type": "markdown",
     "metadata": {
      "slideshow": {
       "slide_type": "fragment"
      }
     },
     "source": [
      "Note that and/or resemble the multiplication and addition operators of ordinary algebra, respectively:\n",
      "* x and y == x * y\n",
      "* x or y == x + y - (x and y)"
     ]
    },
    {
     "cell_type": "markdown",
     "metadata": {
      "slideshow": {
       "slide_type": "slide"
      }
     },
     "source": [
      "## Laws\n",
      "\n",
      "The following laws from ordinary algebra apply:\n",
      "* commutativity\n",
      "  * y == y and x\n",
      "  * x or y == y or x\n",
      "* associativity\n",
      "  * x and (y and z) == (x and y) and z\n",
      "  * x or (y or z) == (x or y) or z\n",
      "* distributivity\n",
      "  * x and (y or z) == (x and y) or (x and z)"
     ]
    },
    {
     "cell_type": "markdown",
     "metadata": {
      "slideshow": {
       "slide_type": "slide"
      }
     },
     "source": [
      "## Order of operations\n",
      "\n",
      "Like in the usual algebra of real numbers, the order of the operations matters.\n",
      "The order of precedence is:\n",
      "1. comparison operator (e.g. ==, >, <)\n",
      "1. not\n",
      "2. and\n",
      "3. or"
     ]
    },
    {
     "cell_type": "markdown",
     "metadata": {
      "slideshow": {
       "slide_type": "slide"
      }
     },
     "source": [
      "You can always override the order using round brackets. For example, spot the difference:"
     ]
    },
    {
     "cell_type": "code",
     "collapsed": false,
     "input": [
      "not False or True"
     ],
     "language": "python",
     "metadata": {
      "slideshow": {
       "slide_type": "fragment"
      }
     },
     "outputs": [
      {
       "metadata": {},
       "output_type": "pyout",
       "prompt_number": 56,
       "text": [
        "True"
       ]
      }
     ],
     "prompt_number": 56
    },
    {
     "cell_type": "code",
     "collapsed": false,
     "input": [
      "not (False or True)"
     ],
     "language": "python",
     "metadata": {
      "slideshow": {
       "slide_type": "fragment"
      }
     },
     "outputs": [
      {
       "metadata": {},
       "output_type": "pyout",
       "prompt_number": 57,
       "text": [
        "False"
       ]
      }
     ],
     "prompt_number": 57
    },
    {
     "cell_type": "markdown",
     "metadata": {
      "slideshow": {
       "slide_type": "slide"
      }
     },
     "source": [
      "### Rewriting expressions\n",
      "\n",
      "There are often multiple ways to write the same expression. In such case, the least complicated one is usually the better one!\n",
      "\n",
      "For example:\n",
      "* \"x and y\" is identical to \"not(not x or not y)\"\n",
      "* \"x or y\" is identical to \"not(not x and not y)\"\n",
      "\n"
     ]
    }
   ],
   "metadata": {}
  }
 ]
}