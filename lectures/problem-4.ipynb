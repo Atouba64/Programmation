{
 "metadata": {
  "name": ""
 },
 "nbformat": 3,
 "nbformat_minor": 0,
 "worksheets": [
  {
   "cells": [
    {
     "cell_type": "markdown",
     "metadata": {
      "slideshow": {
       "slide_type": "slide"
      }
     },
     "source": [
      "Practice Assignment 4\n",
      "=====================\n",
      "\n",
      "This week's assignment consists of 10 small exercises which demonstrate how you can use Python for symbolic maths and numerical integration.\n",
      "\n",
      "\n",
      "Unless otherwise specified, the exercises below require the use of the `sympy` module."
     ]
    },
    {
     "cell_type": "markdown",
     "metadata": {
      "slideshow": {
       "slide_type": "slide"
      }
     },
     "source": [
      "Exercises\n",
      "---------\n",
      "\n",
      "\n",
      "#### *Exact arithmetic:*\n",
      "\n",
      "1) Calculate $\\sqrt{69}$ with 100 decimals.\n",
      "\n",
      "2) Calculate $\\frac{1}{7} + \\frac{1}{51}$ in rational arithmetic.\n",
      "\n",
      "\n",
      "#### *Algebra:*\n",
      "\n",
      "3) Calculate the expanded form of $(x+y)^{13}$.\n",
      "\n",
      "4) Simplify the trigonometric expression $\\frac{\\sin(2x)}{\\cos(x)}$.\n",
      "\n",
      "5) Solve the system of equations $$\\begin{cases}  x + y = 2\\\\ 2x + y = 0 \\end{cases} $$\n",
      "\n",
      "\n",
      "\n",
      "#### *Calculus:*\n",
      "\n",
      "6) Calculate $\\lim_{x \\to 0} \\frac{\\sin(x)}{x}$.\n",
      "\n",
      "7) Calculate the derivative of $\\log(x)$ for x.\n",
      "\n",
      "\n",
      "#### *Integration:*\n",
      "\n",
      "8) Consider the function $y = x\\sin(8x)$ by making a plot of the function in the range $x = [-2\\pi, +2\\pi]$.\n",
      "\n",
      "9) Use `scipy.integrate` to numerically calculate $\\int_{-2\\pi}^{+2\\pi} x\\sin(8x)  \\, \\mathrm{d} x$.\n",
      "\n",
      "10) Use sympy to calculate the same integral algebraically and compare the result.\n"
     ]
    }
   ],
   "metadata": {}
  }
 ]
}