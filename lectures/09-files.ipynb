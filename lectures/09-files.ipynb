{
 "metadata": {
  "name": ""
 },
 "nbformat": 3,
 "nbformat_minor": 0,
 "worksheets": [
  {
   "cells": [
    {
     "cell_type": "markdown",
     "metadata": {
      "slideshow": {
       "slide_type": "slide"
      }
     },
     "source": [
      "Reading and Writing files\n",
      "========================="
     ]
    },
    {
     "cell_type": "markdown",
     "metadata": {
      "slideshow": {
       "slide_type": "slide"
      }
     },
     "source": [
      "We have already talked about built-in Python types, but there are more types that we did not speak about. One of these is the ``file()`` object which can be used to read or write files.\n",
      "\n",
      "In the rest of the lecture we will be using [this file](co2data.txt). Note that the examples below will only work if you first change to the directory containing the file, e.g. by typing:\n",
      "\n",
      "    !cd \"U:/My Documents/Downloads\"\n",
      "    \n",
      "or similar if you have downloaded the file elsewhere."
     ]
    },
    {
     "cell_type": "markdown",
     "metadata": {
      "slideshow": {
       "slide_type": "slide"
      }
     },
     "source": [
      "Reading files\n",
      "-------------\n",
      "\n",
      "Let's try and get the contents of the file into Python. We start off by creating a file object:"
     ]
    },
    {
     "cell_type": "code",
     "collapsed": false,
     "input": [
      "f = open('co2data.txt', 'r')"
     ],
     "language": "python",
     "metadata": {},
     "outputs": [],
     "prompt_number": 25
    },
    {
     "cell_type": "markdown",
     "metadata": {},
     "source": [
      "The ``open`` function is taking the [co2data.txt](co2data.txt) file, opening it, and returning an object (which we call ``f``) that can then be used to access the data."
     ]
    },
    {
     "cell_type": "markdown",
     "metadata": {
      "slideshow": {
       "slide_type": "slide"
      }
     },
     "source": [
      "Note that ``f`` is not the data in the file, it is what is called a *file handle*, which points to the file:"
     ]
    },
    {
     "cell_type": "code",
     "collapsed": false,
     "input": [
      "type(f)"
     ],
     "language": "python",
     "metadata": {},
     "outputs": [
      {
       "metadata": {},
       "output_type": "pyout",
       "prompt_number": 26,
       "text": [
        "file"
       ]
      }
     ],
     "prompt_number": 26
    },
    {
     "cell_type": "markdown",
     "metadata": {
      "slideshow": {
       "slide_type": "slide"
      }
     },
     "source": [
      "Now, simply type:"
     ]
    },
    {
     "cell_type": "code",
     "collapsed": false,
     "input": [
      "f.read()"
     ],
     "language": "python",
     "metadata": {},
     "outputs": [
      {
       "metadata": {},
       "output_type": "pyout",
       "prompt_number": 27,
       "text": [
        "'#year    co2[ppm]   error\\n1959     315.97     0.12\\n1960     316.91     0.12\\n1961     317.64     0.12\\n1962     318.45     0.12\\n1963     318.99     0.12\\n1964     319.62     0.12\\n1965     320.04     0.12\\n1966     321.38     0.12\\n1967     322.16     0.12\\n1968     323.04     0.12\\n1969     324.62     0.12\\n1970     325.68     0.12\\n1971     326.32     0.12\\n1972     327.45     0.12\\n1973     329.68     0.12\\n1974     330.18     0.12\\n1975     331.08     0.12\\n1976     332.05     0.12\\n1977     333.78     0.12\\n1978     335.41     0.12\\n1979     336.78     0.12\\n1980     338.68     0.12\\n1981     340.10     0.12\\n1982     341.44     0.12\\n1983     343.03     0.12\\n1984     344.58     0.12\\n1985     346.04     0.12\\n1986     347.39     0.12\\n1987     349.16     0.12\\n1988     351.56     0.12\\n1989     353.07     0.12\\n1990     354.35     0.12\\n1991     355.57     0.12\\n1992     356.38     0.12\\n1993     357.07     0.12\\n1994     358.82     0.12\\n1995     360.80     0.12\\n1996     362.59     0.12\\n1997     363.71     0.12\\n1998     366.65     0.12\\n1999     368.33     0.12\\n2000     369.52     0.12\\n2001     371.13     0.12\\n2002     373.22     0.12\\n2003     375.77     0.12\\n2004     377.49     0.12\\n2005     379.80     0.12\\n2006     381.90     0.12\\n2007     383.76     0.12\\n2008     385.59     0.12\\n2009     387.37     0.12\\n2010     389.85     0.12\\n2011     391.63     0.12\\n2012     393.82     0.12\\n'"
       ]
      }
     ],
     "prompt_number": 27
    },
    {
     "cell_type": "markdown",
     "metadata": {
      "slideshow": {
       "slide_type": "-"
      }
     },
     "source": [
      "The ``read()`` function simply returns the whole file as a string."
     ]
    },
    {
     "cell_type": "markdown",
     "metadata": {
      "slideshow": {
       "slide_type": "slide"
      }
     },
     "source": [
      "Let's try this again:"
     ]
    },
    {
     "cell_type": "code",
     "collapsed": false,
     "input": [
      "f.read()"
     ],
     "language": "python",
     "metadata": {},
     "outputs": [
      {
       "metadata": {},
       "output_type": "pyout",
       "prompt_number": 28,
       "text": [
        "''"
       ]
      }
     ],
     "prompt_number": 28
    },
    {
     "cell_type": "markdown",
     "metadata": {},
     "source": [
      "What's happened? We read the file, and the file 'pointer' is now sitting at the end of the file, and there is nothing left to read."
     ]
    },
    {
     "cell_type": "markdown",
     "metadata": {
      "slideshow": {
       "slide_type": "slide"
      }
     },
     "source": [
      "Let's now try and do something more useful, and capture the contents of the file in a string:"
     ]
    },
    {
     "cell_type": "code",
     "collapsed": false,
     "input": [
      "f = open('co2data.txt', 'r')\n",
      "data = f.read()"
     ],
     "language": "python",
     "metadata": {},
     "outputs": [],
     "prompt_number": 29
    },
    {
     "cell_type": "markdown",
     "metadata": {
      "slideshow": {
       "slide_type": "slide"
      }
     },
     "source": [
      "Now ``data`` should contain a string with the contents of the file:"
     ]
    },
    {
     "cell_type": "code",
     "collapsed": false,
     "input": [
      "data"
     ],
     "language": "python",
     "metadata": {},
     "outputs": [
      {
       "metadata": {},
       "output_type": "pyout",
       "prompt_number": 30,
       "text": [
        "'#year    co2[ppm]   error\\n1959     315.97     0.12\\n1960     316.91     0.12\\n1961     317.64     0.12\\n1962     318.45     0.12\\n1963     318.99     0.12\\n1964     319.62     0.12\\n1965     320.04     0.12\\n1966     321.38     0.12\\n1967     322.16     0.12\\n1968     323.04     0.12\\n1969     324.62     0.12\\n1970     325.68     0.12\\n1971     326.32     0.12\\n1972     327.45     0.12\\n1973     329.68     0.12\\n1974     330.18     0.12\\n1975     331.08     0.12\\n1976     332.05     0.12\\n1977     333.78     0.12\\n1978     335.41     0.12\\n1979     336.78     0.12\\n1980     338.68     0.12\\n1981     340.10     0.12\\n1982     341.44     0.12\\n1983     343.03     0.12\\n1984     344.58     0.12\\n1985     346.04     0.12\\n1986     347.39     0.12\\n1987     349.16     0.12\\n1988     351.56     0.12\\n1989     353.07     0.12\\n1990     354.35     0.12\\n1991     355.57     0.12\\n1992     356.38     0.12\\n1993     357.07     0.12\\n1994     358.82     0.12\\n1995     360.80     0.12\\n1996     362.59     0.12\\n1997     363.71     0.12\\n1998     366.65     0.12\\n1999     368.33     0.12\\n2000     369.52     0.12\\n2001     371.13     0.12\\n2002     373.22     0.12\\n2003     375.77     0.12\\n2004     377.49     0.12\\n2005     379.80     0.12\\n2006     381.90     0.12\\n2007     383.76     0.12\\n2008     385.59     0.12\\n2009     387.37     0.12\\n2010     389.85     0.12\\n2011     391.63     0.12\\n2012     393.82     0.12\\n'"
       ]
      }
     ],
     "prompt_number": 30
    },
    {
     "cell_type": "markdown",
     "metadata": {
      "slideshow": {
       "slide_type": "slide"
      }
     },
     "source": [
      "But what we'd really like to do is read the file line by line. There are several ways to do this, the simplest of which is to use a ``for`` loop in the following way:"
     ]
    },
    {
     "cell_type": "code",
     "collapsed": false,
     "input": [
      "f = open('co2data.txt', 'r')\n",
      "for line in f:\n",
      "    print repr(line)"
     ],
     "language": "python",
     "metadata": {},
     "outputs": [
      {
       "output_type": "stream",
       "stream": "stdout",
       "text": [
        "'#year    co2[ppm]   error\\n'\n",
        "'1959     315.97     0.12\\n'\n",
        "'1960     316.91     0.12\\n'\n",
        "'1961     317.64     0.12\\n'\n",
        "'1962     318.45     0.12\\n'\n",
        "'1963     318.99     0.12\\n'\n",
        "'1964     319.62     0.12\\n'\n",
        "'1965     320.04     0.12\\n'\n",
        "'1966     321.38     0.12\\n'\n",
        "'1967     322.16     0.12\\n'\n",
        "'1968     323.04     0.12\\n'\n",
        "'1969     324.62     0.12\\n'\n",
        "'1970     325.68     0.12\\n'\n",
        "'1971     326.32     0.12\\n'\n",
        "'1972     327.45     0.12\\n'\n",
        "'1973     329.68     0.12\\n'\n",
        "'1974     330.18     0.12\\n'\n",
        "'1975     331.08     0.12\\n'\n",
        "'1976     332.05     0.12\\n'\n",
        "'1977     333.78     0.12\\n'\n",
        "'1978     335.41     0.12\\n'\n",
        "'1979     336.78     0.12\\n'\n",
        "'1980     338.68     0.12\\n'\n",
        "'1981     340.10     0.12\\n'\n",
        "'1982     341.44     0.12\\n'\n",
        "'1983     343.03     0.12\\n'\n",
        "'1984     344.58     0.12\\n'\n",
        "'1985     346.04     0.12\\n'\n",
        "'1986     347.39     0.12\\n'\n",
        "'1987     349.16     0.12\\n'\n",
        "'1988     351.56     0.12\\n'\n",
        "'1989     353.07     0.12\\n'\n",
        "'1990     354.35     0.12\\n'\n",
        "'1991     355.57     0.12\\n'\n",
        "'1992     356.38     0.12\\n'\n",
        "'1993     357.07     0.12\\n'\n",
        "'1994     358.82     0.12\\n'\n",
        "'1995     360.80     0.12\\n'\n",
        "'1996     362.59     0.12\\n'\n",
        "'1997     363.71     0.12\\n'\n",
        "'1998     366.65     0.12\\n'\n",
        "'1999     368.33     0.12\\n'\n",
        "'2000     369.52     0.12\\n'\n",
        "'2001     371.13     0.12\\n'\n",
        "'2002     373.22     0.12\\n'\n",
        "'2003     375.77     0.12\\n'\n",
        "'2004     377.49     0.12\\n'\n",
        "'2005     379.80     0.12\\n'\n",
        "'2006     381.90     0.12\\n'\n",
        "'2007     383.76     0.12\\n'\n",
        "'2008     385.59     0.12\\n'\n",
        "'2009     387.37     0.12\\n'\n",
        "'2010     389.85     0.12\\n'\n",
        "'2011     391.63     0.12\\n'\n",
        "'2012     393.82     0.12\\n'\n"
       ]
      }
     ],
     "prompt_number": 31
    },
    {
     "cell_type": "markdown",
     "metadata": {},
     "source": [
      "We are now looping over a file rather than a list, and this automatically reads in the next line at each iteration. Each line is being returned as a string."
     ]
    },
    {
     "cell_type": "markdown",
     "metadata": {},
     "source": [
      "Notice the ``\\n`` at the end of each line - this is a line return character, which indicates the end of a line in text files. It is normally invisible when you print, which is why the example uses the repr() function to reveal them."
     ]
    },
    {
     "cell_type": "markdown",
     "metadata": {
      "slideshow": {
       "slide_type": "slide"
      }
     },
     "source": [
      "Now we're reading in a file line by line, what would be nice would be to get some values out of it.  Let's examine the last line in detail. If we just type ``line`` we should see the last line that was printed in the loop:"
     ]
    },
    {
     "cell_type": "code",
     "collapsed": false,
     "input": [
      "line"
     ],
     "language": "python",
     "metadata": {},
     "outputs": [
      {
       "metadata": {},
       "output_type": "pyout",
       "prompt_number": 32,
       "text": [
        "'2012     393.82     0.12\\n'"
       ]
      }
     ],
     "prompt_number": 32
    },
    {
     "cell_type": "markdown",
     "metadata": {
      "slideshow": {
       "slide_type": "slide"
      }
     },
     "source": [
      "We can first get rid of the ``\\n`` character with:"
     ]
    },
    {
     "cell_type": "code",
     "collapsed": false,
     "input": [
      "line = line.strip()"
     ],
     "language": "python",
     "metadata": {},
     "outputs": [],
     "prompt_number": 33
    },
    {
     "cell_type": "code",
     "collapsed": false,
     "input": [
      "line"
     ],
     "language": "python",
     "metadata": {},
     "outputs": [
      {
       "metadata": {},
       "output_type": "pyout",
       "prompt_number": 34,
       "text": [
        "'2012     393.82     0.12'"
       ]
      }
     ],
     "prompt_number": 34
    },
    {
     "cell_type": "markdown",
     "metadata": {
      "slideshow": {
       "slide_type": "slide"
      }
     },
     "source": [
      "Next, we can use what we learned about strings and lists to do:"
     ]
    },
    {
     "cell_type": "code",
     "collapsed": false,
     "input": [
      "columns = line.split()"
     ],
     "language": "python",
     "metadata": {},
     "outputs": [],
     "prompt_number": 35
    },
    {
     "cell_type": "code",
     "collapsed": false,
     "input": [
      "columns"
     ],
     "language": "python",
     "metadata": {},
     "outputs": [
      {
       "metadata": {},
       "output_type": "pyout",
       "prompt_number": 36,
       "text": [
        "['2012', '393.82', '0.12']"
       ]
      }
     ],
     "prompt_number": 36
    },
    {
     "cell_type": "markdown",
     "metadata": {
      "slideshow": {
       "slide_type": "slide"
      }
     },
     "source": [
      "Finally, let's say we care about the year, and the CO2 measurements column:"
     ]
    },
    {
     "cell_type": "code",
     "collapsed": false,
     "input": [
      "year = columns[0]\n",
      "co2 = columns[1]"
     ],
     "language": "python",
     "metadata": {},
     "outputs": [],
     "prompt_number": 37
    },
    {
     "cell_type": "code",
     "collapsed": false,
     "input": [
      "year"
     ],
     "language": "python",
     "metadata": {},
     "outputs": [
      {
       "metadata": {},
       "output_type": "pyout",
       "prompt_number": 38,
       "text": [
        "'2012'"
       ]
      }
     ],
     "prompt_number": 38
    },
    {
     "cell_type": "code",
     "collapsed": false,
     "input": [
      "co2"
     ],
     "language": "python",
     "metadata": {},
     "outputs": [
      {
       "metadata": {},
       "output_type": "pyout",
       "prompt_number": 39,
       "text": [
        "'393.82'"
       ]
      }
     ],
     "prompt_number": 39
    },
    {
     "cell_type": "markdown",
     "metadata": {
      "slideshow": {
       "slide_type": "slide"
      }
     },
     "source": [
      "Note that ``co2`` is a string. If we want a floating point number, we can instead do:"
     ]
    },
    {
     "cell_type": "code",
     "collapsed": false,
     "input": [
      "co2 = float(columns[1])"
     ],
     "language": "python",
     "metadata": {},
     "outputs": [],
     "prompt_number": 40
    },
    {
     "cell_type": "code",
     "collapsed": false,
     "input": [
      "co2"
     ],
     "language": "python",
     "metadata": {},
     "outputs": [
      {
       "metadata": {},
       "output_type": "pyout",
       "prompt_number": 41,
       "text": [
        "393.82"
       ]
      }
     ],
     "prompt_number": 41
    },
    {
     "cell_type": "markdown",
     "metadata": {
      "slideshow": {
       "slide_type": "slide"
      }
     },
     "source": [
      "One last piece of information we need about files is how we can read a single line. This is done using:\n",
      "\n",
      "    line = f.readline()"
     ]
    },
    {
     "cell_type": "markdown",
     "metadata": {
      "slideshow": {
       "slide_type": "slide"
      }
     },
     "source": [
      "We can put all this together to write a little script to read the data from the file and display the columns we care about to the screen! Here is is:"
     ]
    },
    {
     "cell_type": "code",
     "collapsed": false,
     "input": [
      "# Open file\n",
      "f = open('co2data.txt', 'r')\n",
      "\n",
      "# Read and the header line\n",
      "header = f.readline()\n",
      "\n",
      "# Loop over lines and extract variables of interest\n",
      "for line in f:\n",
      "    line = line.strip()\n",
      "    columns = line.split()\n",
      "    print int(columns[0]), float(columns[1])"
     ],
     "language": "python",
     "metadata": {},
     "outputs": [
      {
       "output_type": "stream",
       "stream": "stdout",
       "text": [
        "1959 315.97\n",
        "1960 316.91\n",
        "1961 317.64\n",
        "1962 318.45\n",
        "1963 318.99\n",
        "1964 319.62\n",
        "1965 320.04\n",
        "1966 321.38\n",
        "1967 322.16\n",
        "1968 323.04\n",
        "1969 324.62\n",
        "1970 325.68\n",
        "1971 326.32\n",
        "1972 327.45\n",
        "1973 329.68\n",
        "1974 330.18\n",
        "1975 331.08\n",
        "1976 332.05\n",
        "1977 333.78\n",
        "1978 335.41\n",
        "1979 336.78\n",
        "1980 338.68\n",
        "1981 340.1\n",
        "1982 341.44\n",
        "1983 343.03\n",
        "1984 344.58\n",
        "1985 346.04\n",
        "1986 347.39\n",
        "1987 349.16\n",
        "1988 351.56\n",
        "1989 353.07\n",
        "1990 354.35\n",
        "1991 355.57\n",
        "1992 356.38\n",
        "1993 357.07\n",
        "1994 358.82\n",
        "1995 360.8\n",
        "1996 362.59\n",
        "1997 363.71\n",
        "1998 366.65\n",
        "1999 368.33\n",
        "2000 369.52\n",
        "2001 371.13\n",
        "2002 373.22\n",
        "2003 375.77\n",
        "2004 377.49\n",
        "2005 379.8\n",
        "2006 381.9\n",
        "2007 383.76\n",
        "2008 385.59\n",
        "2009 387.37\n",
        "2010 389.85\n",
        "2011 391.63\n",
        "2012 393.82\n"
       ]
      }
     ],
     "prompt_number": 42
    },
    {
     "cell_type": "markdown",
     "metadata": {
      "slideshow": {
       "slide_type": "slide"
      }
     },
     "source": [
      "Writing files\n",
      "-------------\n",
      "\n",
      "To open a file for writing, use:"
     ]
    },
    {
     "cell_type": "code",
     "collapsed": false,
     "input": [
      "f = open('new.txt', 'w')"
     ],
     "language": "python",
     "metadata": {},
     "outputs": [],
     "prompt_number": 43
    },
    {
     "cell_type": "markdown",
     "metadata": {
      "slideshow": {
       "slide_type": "slide"
      }
     },
     "source": [
      "Then simply use ``f.write()`` to write any content to the file, for example:"
     ]
    },
    {
     "cell_type": "code",
     "collapsed": false,
     "input": [
      "f.write(\"Hello, World!\\n\")"
     ],
     "language": "python",
     "metadata": {},
     "outputs": [],
     "prompt_number": 44
    },
    {
     "cell_type": "markdown",
     "metadata": {
      "slideshow": {
       "slide_type": "slide"
      }
     },
     "source": [
      "If you want to write multiple lines, you can either give a list of strings to the ``writelines()`` method:"
     ]
    },
    {
     "cell_type": "code",
     "collapsed": false,
     "input": [
      "f.writelines(['spam\\n', 'egg\\n', 'spam\\n'])"
     ],
     "language": "python",
     "metadata": {},
     "outputs": [],
     "prompt_number": 45
    },
    {
     "cell_type": "markdown",
     "metadata": {},
     "source": [
      "or you can write them as a single string:"
     ]
    },
    {
     "cell_type": "code",
     "collapsed": false,
     "input": [
      "f.write('spam\\negg\\nspam')"
     ],
     "language": "python",
     "metadata": {},
     "outputs": [],
     "prompt_number": 46
    },
    {
     "cell_type": "markdown",
     "metadata": {
      "slideshow": {
       "slide_type": "slide"
      }
     },
     "source": [
      "Once you have finished writing data to a file, you need to close it:"
     ]
    },
    {
     "cell_type": "code",
     "collapsed": false,
     "input": [
      "f.close()"
     ],
     "language": "python",
     "metadata": {},
     "outputs": [],
     "prompt_number": 47
    },
    {
     "cell_type": "markdown",
     "metadata": {
      "slideshow": {
       "slide_type": "skip"
      }
     },
     "source": [
      "Notes\n",
      "-----\n",
      "\n",
      "The above shows you how you can read and write any data file. Of course, there are also functions that exist to help you read in data in certain formats (for example ``numpy`` contains the handy function ``numpy.loadtxt`` to read in arrays from files) but the key is that with the above, you can ready any file, so any other function is then just making your life easier."
     ]
    }
   ],
   "metadata": {}
  }
 ]
}