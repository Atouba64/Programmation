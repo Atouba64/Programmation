{
 "metadata": {
  "name": ""
 },
 "nbformat": 3,
 "nbformat_minor": 0,
 "worksheets": [
  {
   "cells": [
    {
     "cell_type": "markdown",
     "metadata": {
      "slideshow": {
       "slide_type": "slide"
      }
     },
     "source": [
      "Introduction: Control Flow\n",
      "==========================\n",
      "\n",
      "In \"Basic Objects\", we saw how to set variables of various types:"
     ]
    },
    {
     "cell_type": "code",
     "collapsed": false,
     "input": [
      "a = 1\n",
      "b = 3.14\n",
      "c = 'hello'\n",
      "d = [a, b, c]"
     ],
     "language": "python",
     "metadata": {},
     "outputs": [],
     "prompt_number": 1
    },
    {
     "cell_type": "markdown",
     "metadata": {},
     "source": [
      "but this doesn't get us very far. One essential part of programming is **control flow** which is the ability to control how the program will proceed based on conditions and loops."
     ]
    },
    {
     "cell_type": "markdown",
     "metadata": {
      "slideshow": {
       "slide_type": "slide"
      }
     },
     "source": [
      "``if`` statements\n",
      "-----------------\n",
      "\n",
      "The simplest form of control flow is the ``if`` statement, which executes a block of code only if a certain condition is true (and optionally executes code if it is *not* true. The basic syntax for an if-statement is the following:\n",
      "\n",
      "    if condition:\n",
      "        # do something\n",
      "    elif condition:\n",
      "        # do something else\n",
      "    else:\n",
      "        # do yet something else\n",
      "\n",
      "Note the presence of a colon (``:``) after each control flow statement, and the indentation for the block that follows. Python relies\n",
      "on **indentation and colons** to determine whether it is in a specific block of code."
     ]
    },
    {
     "cell_type": "markdown",
     "metadata": {
      "slideshow": {
       "slide_type": "slide"
      }
     },
     "source": [
      "For example, in the following code:"
     ]
    },
    {
     "cell_type": "code",
     "collapsed": false,
     "input": [
      "a = 1\n",
      "if a == 1:\n",
      "    print \"a is 1, changing to 2\"\n",
      "    a = 2\n",
      "print \"finished\""
     ],
     "language": "python",
     "metadata": {},
     "outputs": [
      {
       "output_type": "stream",
       "stream": "stdout",
       "text": [
        "a is 1, changing to 2\n",
        "finished\n"
       ]
      }
     ],
     "prompt_number": 2
    },
    {
     "cell_type": "markdown",
     "metadata": {
      "slideshow": {
       "slide_type": "fragment"
      }
     },
     "source": [
      "    \n",
      "The first print statement, and the ``a = 2`` statement only get executed if\n",
      "``a`` is 1. On the other hand, ``print \"finished\"`` gets executed regardless,\n",
      "once Python exits the if statement.\n",
      "\n",
      "**Indentation is very important in Python, and the convention is to use four spaces (not tabs) for each level of indent.**"
     ]
    },
    {
     "cell_type": "markdown",
     "metadata": {
      "slideshow": {
       "slide_type": "slide"
      }
     },
     "source": [
      "The conditions in the statements can be anything that returns a boolean value ( ``True`` or ``False``). For example, ``a == 1``, ``b != 4``, and ``c <= 5`` are valid conditions because they return either ``True`` or ``False`` depending on whether the statements are true or not."
     ]
    },
    {
     "cell_type": "markdown",
     "metadata": {
      "slideshow": {
       "slide_type": "slide"
      }
     },
     "source": [
      "Standard comparisons can be used:\n",
      "\n",
      "* ``==`` for equal,\n",
      "* ``!=`` for not equal, \n",
      "* ``<=`` for less or equal,\n",
      "* ``>=`` for greater or equal,\n",
      "* ``<`` for less than, and\n",
      "* ``>`` for greater than, \n",
      "\n",
      "as well as logical operators (``and``, ``or``, ``not``). \n",
      "\n",
      "Parentheses can be used to isolate different parts of conditions, to make clear in what order the comparisons should be executed, for example:\n",
      "\n",
      "    if (a == 1 and b <= 3) or c > 3:\n",
      "        # do something"
     ]
    },
    {
     "cell_type": "markdown",
     "metadata": {
      "slideshow": {
       "slide_type": "slide"
      }
     },
     "source": [
      "### Exercise\n",
      "\n",
      "For an arbitrary number n (e.g. ``n = 5``), test if n is odd or even and print the result to the screen (*\"n is even\"* or *\"n is odd\"*)\n",
      "\n",
      "Hint: the % operator can be used to find the remainder of the division of an integer by another:"
     ]
    },
    {
     "cell_type": "code",
     "collapsed": false,
     "input": [
      "5 % 2"
     ],
     "language": "python",
     "metadata": {
      "slideshow": {
       "slide_type": "-"
      }
     },
     "outputs": [
      {
       "metadata": {},
       "output_type": "pyout",
       "prompt_number": 1,
       "text": [
        "1"
       ]
      }
     ],
     "prompt_number": 1
    },
    {
     "cell_type": "markdown",
     "metadata": {
      "slideshow": {
       "slide_type": "fragment"
      }
     },
     "source": [
      "Solution:"
     ]
    },
    {
     "cell_type": "code",
     "collapsed": false,
     "input": [
      "n = 5\n",
      "if n % 2 == 0:\n",
      "    print str(n) + \" is even\"\n",
      "else:\n",
      "    print str(n) + \" is odd\""
     ],
     "language": "python",
     "metadata": {
      "slideshow": {
       "slide_type": "fragment"
      }
     },
     "outputs": [
      {
       "output_type": "stream",
       "stream": "stdout",
       "text": [
        "5 is odd\n"
       ]
      }
     ],
     "prompt_number": 5
    },
    {
     "cell_type": "markdown",
     "metadata": {
      "slideshow": {
       "slide_type": "slide"
      }
     },
     "source": [
      "``for`` loops\n",
      "-------------\n",
      "\n",
      "Another common structure that is important for controling the flow of execution are loops. Loops can be used to execute a block of code multiple times. The most common type of loop is the ``for`` loop. In its most basic form, it\n",
      "is straightforward:\n",
      "\n",
      "    for value in iterable:\n",
      "        # do things\n",
      "\n",
      "The ``iterable`` can be any Python object that can be iterated over. This\n",
      "includes lists or strings."
     ]
    },
    {
     "cell_type": "code",
     "collapsed": false,
     "input": [
      "for x in [3, 1.2, 'a']:\n",
      "    print x"
     ],
     "language": "python",
     "metadata": {
      "slideshow": {
       "slide_type": "slide"
      }
     },
     "outputs": [
      {
       "output_type": "stream",
       "stream": "stdout",
       "text": [
        "3\n",
        "1.2\n",
        "a\n"
       ]
      }
     ],
     "prompt_number": 3
    },
    {
     "cell_type": "code",
     "collapsed": false,
     "input": [
      "for letter in 'hello':\n",
      "    print letter"
     ],
     "language": "python",
     "metadata": {
      "slideshow": {
       "slide_type": "fragment"
      }
     },
     "outputs": [
      {
       "output_type": "stream",
       "stream": "stdout",
       "text": [
        "h\n",
        "e\n",
        "l\n",
        "l\n",
        "o\n"
       ]
      }
     ],
     "prompt_number": 4
    },
    {
     "cell_type": "markdown",
     "metadata": {
      "slideshow": {
       "slide_type": "slide"
      }
     },
     "source": [
      "A common type of for loop is one where the value should range between two values. To do this, we can use the ``range`` function:"
     ]
    },
    {
     "cell_type": "code",
     "collapsed": false,
     "input": [
      "range(10)"
     ],
     "language": "python",
     "metadata": {
      "slideshow": {
       "slide_type": "-"
      }
     },
     "outputs": [
      {
       "output_type": "pyout",
       "prompt_number": 5,
       "text": [
        "[0, 1, 2, 3, 4, 5, 6, 7, 8, 9]"
       ]
      }
     ],
     "prompt_number": 5
    },
    {
     "cell_type": "code",
     "collapsed": false,
     "input": [
      "range(3, 12)"
     ],
     "language": "python",
     "metadata": {
      "slideshow": {
       "slide_type": "-"
      }
     },
     "outputs": [
      {
       "output_type": "pyout",
       "prompt_number": 6,
       "text": [
        "[3, 4, 5, 6, 7, 8, 9, 10, 11]"
       ]
      }
     ],
     "prompt_number": 6
    },
    {
     "cell_type": "code",
     "collapsed": false,
     "input": [
      "range(2, 20, 2)\n",
      "# the third entry specifies the \"step size\""
     ],
     "language": "python",
     "metadata": {
      "slideshow": {
       "slide_type": "-"
      }
     },
     "outputs": [
      {
       "output_type": "pyout",
       "prompt_number": 7,
       "text": [
        "[2, 4, 6, 8, 10, 12, 14, 16, 18]"
       ]
      }
     ],
     "prompt_number": 7
    },
    {
     "cell_type": "markdown",
     "metadata": {
      "slideshow": {
       "slide_type": "-"
      }
     },
     "source": [
      "Since ``range(...)`` returns a list, it can therefore be used in a ``for`` loop."
     ]
    },
    {
     "cell_type": "markdown",
     "metadata": {
      "slideshow": {
       "slide_type": "slide"
      }
     },
     "source": [
      "### Exercise\n",
      "\n",
      "Print all numbers from 1 to 15 to the screen."
     ]
    },
    {
     "cell_type": "code",
     "collapsed": false,
     "input": [
      "for i in range(1, 16):\n",
      "    print i"
     ],
     "language": "python",
     "metadata": {
      "slideshow": {
       "slide_type": "fragment"
      }
     },
     "outputs": [
      {
       "output_type": "stream",
       "stream": "stdout",
       "text": [
        "1\n",
        "2\n",
        "3\n",
        "4\n",
        "5\n",
        "6\n",
        "7\n",
        "8\n",
        "9\n",
        "10\n",
        "11\n",
        "12\n",
        "13\n",
        "14\n",
        "15\n"
       ]
      }
     ],
     "prompt_number": 6
    },
    {
     "cell_type": "markdown",
     "metadata": {
      "slideshow": {
       "slide_type": "slide"
      }
     },
     "source": [
      "``while`` loops\n",
      "---------------\n",
      "\n",
      "Similarly to other programming languages, Python also provides a ``while`` loop which is similar to a ``for`` loop, but where the number of iterations is defined by a condition rather than an iterator:\n",
      "\n",
      "    while condition:\n",
      "        # do something"
     ]
    },
    {
     "cell_type": "markdown",
     "metadata": {
      "slideshow": {
       "slide_type": "slide"
      }
     },
     "source": [
      "For example, we can also print the number from 1 to 15 as follows:"
     ]
    },
    {
     "cell_type": "code",
     "collapsed": false,
     "input": [
      "i = 1\n",
      "while i <= 15:\n",
      "    print i\n",
      "    i = i + 1"
     ],
     "language": "python",
     "metadata": {},
     "outputs": [
      {
       "output_type": "stream",
       "stream": "stdout",
       "text": [
        "1\n",
        "2\n",
        "3\n",
        "4\n",
        "5\n",
        "6\n",
        "7\n",
        "8\n",
        "9\n",
        "10\n",
        "11\n",
        "12\n",
        "13\n",
        "14\n",
        "15\n"
       ]
      }
     ],
     "prompt_number": 7
    },
    {
     "cell_type": "markdown",
     "metadata": {
      "slideshow": {
       "slide_type": "fragment"
      }
     },
     "source": [
      "Tip: it doesn't really matter whether you use ``while`` or ``for``, but the code is often easier to read when you use ``for``."
     ]
    },
    {
     "cell_type": "markdown",
     "metadata": {
      "slideshow": {
       "slide_type": "slide"
      }
     },
     "source": [
      "Exiting or continuing a loop\n",
      "----------------------------\n",
      "\n",
      "There are two useful statements that can be called in a loop - ``break`` and ``continue``. When called, ``break`` will exit the loop it is currently in:"
     ]
    },
    {
     "cell_type": "code",
     "collapsed": false,
     "input": [
      "for i in range(10):\n",
      "    print i\n",
      "    if i == 3:\n",
      "        break"
     ],
     "language": "python",
     "metadata": {},
     "outputs": [
      {
       "output_type": "stream",
       "stream": "stdout",
       "text": [
        "0\n",
        "1\n",
        "2\n",
        "3\n"
       ]
      }
     ],
     "prompt_number": 10
    },
    {
     "cell_type": "markdown",
     "metadata": {
      "slideshow": {
       "slide_type": "slide"
      }
     },
     "source": [
      "The other is ``continue``, which will ignore the rest of the loop and go straight to the next iteration:"
     ]
    },
    {
     "cell_type": "code",
     "collapsed": false,
     "input": [
      "for i in range(10):\n",
      "    if i == 2 or i == 8:\n",
      "        continue\n",
      "    print i"
     ],
     "language": "python",
     "metadata": {},
     "outputs": [
      {
       "output_type": "stream",
       "stream": "stdout",
       "text": [
        "0\n",
        "1\n",
        "3\n",
        "4\n",
        "5\n",
        "6\n",
        "7\n",
        "9\n"
       ]
      }
     ],
     "prompt_number": 11
    },
    {
     "cell_type": "markdown",
     "metadata": {
      "slideshow": {
       "slide_type": "slide"
      }
     },
     "source": [
      "Building programs\n",
      "=================\n",
      "\n",
      "These different control flow structures can be combined to form programs. For example, the following program will print out a different message depending on whether the current number in the loop is less, equal to, or greater than 10:"
     ]
    },
    {
     "cell_type": "code",
     "collapsed": false,
     "input": [
      "for value in [2, 55, 4, 5, 12, 8, 9, 22]:\n",
      "    if value > 10:\n",
      "        print \"Value is greater than 10 (\" + str(value) + \")\"\n",
      "    elif value == 10:\n",
      "        print \"Value is exactly 10\"\n",
      "    else:\n",
      "        print \"Value is less than 10 (\" + str(value) + \")\""
     ],
     "language": "python",
     "metadata": {},
     "outputs": [
      {
       "output_type": "stream",
       "stream": "stdout",
       "text": [
        "Value is less than 10 (2)\n",
        "Value is greater than 10 (55)\n",
        "Value is less than 10 (4)\n",
        "Value is less than 10 (5)\n",
        "Value is greater than 10 (12)\n",
        "Value is less than 10 (8)\n",
        "Value is less than 10 (9)\n",
        "Value is greater than 10 (22)\n"
       ]
      }
     ],
     "prompt_number": 12
    }
   ],
   "metadata": {}
  }
 ]
}