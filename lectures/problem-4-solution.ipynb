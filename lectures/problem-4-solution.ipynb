{
 "metadata": {
  "name": ""
 },
 "nbformat": 3,
 "nbformat_minor": 0,
 "worksheets": [
  {
   "cells": [
    {
     "cell_type": "markdown",
     "metadata": {},
     "source": [
      "Practice Assignment 4: Solutions\n",
      "====================="
     ]
    },
    {
     "cell_type": "markdown",
     "metadata": {},
     "source": [
      "1) Calculate $\\sqrt{69}$ with 100 decimals."
     ]
    },
    {
     "cell_type": "code",
     "collapsed": false,
     "input": [
      "import sympy as sp\n",
      "sp.sqrt(69).evalf(100)"
     ],
     "language": "python",
     "metadata": {},
     "outputs": [
      {
       "metadata": {},
       "output_type": "pyout",
       "prompt_number": 1,
       "text": [
        "8.306623862918074852584262744907492010232214248955655779432188369037585033423151573867398508232357050"
       ]
      }
     ],
     "prompt_number": 1
    },
    {
     "cell_type": "markdown",
     "metadata": {},
     "source": [
      "2) Calculate $\\frac{1}{7} + \\frac{1}{51}$ in rational arithmetic."
     ]
    },
    {
     "cell_type": "code",
     "collapsed": false,
     "input": [
      "sp.Rational(1, 7) + sp.Rational(1, 51)"
     ],
     "language": "python",
     "metadata": {},
     "outputs": [
      {
       "metadata": {},
       "output_type": "pyout",
       "prompt_number": 2,
       "text": [
        "58/357"
       ]
      }
     ],
     "prompt_number": 2
    },
    {
     "cell_type": "markdown",
     "metadata": {},
     "source": [
      "3) Calculate the expanded form of $(x+y)^{13}$."
     ]
    },
    {
     "cell_type": "code",
     "collapsed": false,
     "input": [
      "x = sp.Symbol('x')\n",
      "y = sp.Symbol('y')\n",
      "expression = (x+y)**13\n",
      "expression.expand()"
     ],
     "language": "python",
     "metadata": {},
     "outputs": [
      {
       "metadata": {},
       "output_type": "pyout",
       "prompt_number": 3,
       "text": [
        "x**13 + 13*x**12*y + 78*x**11*y**2 + 286*x**10*y**3 + 715*x**9*y**4 + 1287*x**8*y**5 + 1716*x**7*y**6 + 1716*x**6*y**7 + 1287*x**5*y**8 + 715*x**4*y**9 + 286*x**3*y**10 + 78*x**2*y**11 + 13*x*y**12 + y**13"
       ]
      }
     ],
     "prompt_number": 3
    },
    {
     "cell_type": "markdown",
     "metadata": {},
     "source": [
      "4) Simplify the trigonometric expression $\\frac{\\sin(2x)}{\\cos(x)}$."
     ]
    },
    {
     "cell_type": "code",
     "collapsed": false,
     "input": [
      "expression = sp.sin(2*x) / sp.cos(x)\n",
      "expression.simplify()"
     ],
     "language": "python",
     "metadata": {},
     "outputs": [
      {
       "metadata": {},
       "output_type": "pyout",
       "prompt_number": 4,
       "text": [
        "2*sin(x)"
       ]
      }
     ],
     "prompt_number": 4
    },
    {
     "cell_type": "markdown",
     "metadata": {},
     "source": [
      "5) Solve the system of equations $$\\begin{cases} x + y = 2\\\\ 2x + y = 0 \\end{cases} $$"
     ]
    },
    {
     "cell_type": "code",
     "collapsed": false,
     "input": [
      "sp.solve([x+y-2, 2*x+y], [x, y])"
     ],
     "language": "python",
     "metadata": {},
     "outputs": [
      {
       "metadata": {},
       "output_type": "pyout",
       "prompt_number": 5,
       "text": [
        "{x: -2, y: 4}"
       ]
      }
     ],
     "prompt_number": 5
    },
    {
     "cell_type": "markdown",
     "metadata": {},
     "source": [
      "6) Calculate $\\lim_{x \\to 0} \\frac{\\sin(x)}{x}$."
     ]
    },
    {
     "cell_type": "code",
     "collapsed": false,
     "input": [
      "sp.limit(sp.sin(x)/x, x, 0)"
     ],
     "language": "python",
     "metadata": {},
     "outputs": []
    },
    {
     "cell_type": "markdown",
     "metadata": {},
     "source": [
      "7) Calculate the derivative of $\\log(x)$ for x."
     ]
    },
    {
     "cell_type": "code",
     "collapsed": false,
     "input": [
      "sp.diff(sp.log(x), x)"
     ],
     "language": "python",
     "metadata": {},
     "outputs": []
    },
    {
     "cell_type": "markdown",
     "metadata": {},
     "source": [
      "8) Consider the function $y = x\\sin(8x)$ by making a plot of the function in the range $x = [-2\\pi, +2\\pi]$."
     ]
    },
    {
     "cell_type": "code",
     "collapsed": false,
     "input": [
      "import numpy as np\n",
      "\n",
      "def my_function(x):\n",
      "    return x*np.sin(8*x)\n",
      "\n",
      "my_x = np.arange(-2*np.pi, +2*np.pi, 0.01)  # Create an array ranging between [-2pi, +2pi] with stepsize 0.01\n",
      "my_y = my_function(my_x)\n",
      "plt.plot(my_x, my_y)"
     ],
     "language": "python",
     "metadata": {},
     "outputs": [
      {
       "metadata": {},
       "output_type": "pyout",
       "prompt_number": 6,
       "text": [
        "[<matplotlib.lines.Line2D at 0x42abad0>]"
       ]
      },
      {
       "metadata": {},
       "output_type": "display_data",
       "png": "[encoded data removed]",
       "text": [
        "<matplotlib.figure.Figure at 0x41efb10>"
       ]
      }
     ],
     "prompt_number": 6
    },
    {
     "cell_type": "markdown",
     "metadata": {},
     "source": [
      "9) Use `scipy.integrate` to numerically calculate $\\int_{-2\\pi}^{+2\\pi} x\\sin(8x)  \\, \\mathrm{d} x$."
     ]
    },
    {
     "cell_type": "code",
     "collapsed": false,
     "input": [
      "from scipy.integrate import quad\n",
      "print quad(my_function, -2*np.pi, +2*np.pi)"
     ],
     "language": "python",
     "metadata": {},
     "outputs": [
      {
       "output_type": "stream",
       "stream": "stdout",
       "text": [
        "(-1.5707963267948966, 2.3141848159990985e-08)\n"
       ]
      }
     ],
     "prompt_number": 7
    },
    {
     "cell_type": "markdown",
     "metadata": {},
     "source": [
      "10) Use sympy to calculate the same integral algebraically and compare the result."
     ]
    },
    {
     "cell_type": "code",
     "collapsed": false,
     "input": [
      "import sympy as sp\n",
      "x = sp.Symbol('x')\n",
      "expr = x*sp.sin(8*x)\n",
      "result = expr.integrate((x, -2*sp.pi, 2*sp.pi))\n",
      "print result"
     ],
     "language": "python",
     "metadata": {},
     "outputs": [
      {
       "output_type": "stream",
       "stream": "stdout",
       "text": [
        "-pi/2\n"
       ]
      }
     ],
     "prompt_number": 8
    },
    {
     "cell_type": "code",
     "collapsed": false,
     "input": [
      "result.evalf()"
     ],
     "language": "python",
     "metadata": {},
     "outputs": [
      {
       "metadata": {},
       "output_type": "pyout",
       "prompt_number": 10,
       "text": [
        "-1.57079632679490"
       ]
      }
     ],
     "prompt_number": 10
    }
   ],
   "metadata": {}
  }
 ]
}