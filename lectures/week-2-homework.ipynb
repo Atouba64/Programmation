{
 "metadata": {
  "celltoolbar": "Slideshow",
  "name": "",
  "signature": "sha256:b3c994e9cd9aef00c7eb0aebfa1285595065f432ab65e88107ef494ec171d4c8"
 },
 "nbformat": 3,
 "nbformat_minor": 0,
 "worksheets": [
  {
   "cells": [
    {
     "cell_type": "heading",
     "level": 1,
     "metadata": {
      "slideshow": {
       "slide_type": "slide"
      }
     },
     "source": [
      "Week 2 Homework Problems"
     ]
    },
    {
     "cell_type": "markdown",
     "metadata": {},
     "source": [
      "The problems below are aimed to check if you understand the basics of the Python syntax, in particular control flow (i.e. `for` loops and `if` statements)."
     ]
    },
    {
     "cell_type": "markdown",
     "metadata": {
      "slideshow": {
       "slide_type": "slide"
      }
     },
     "source": [
      "Your solutions will be marked and count towards your final grade.\n",
      "You will get points for:\n",
      "1. using the correct method and syntax;\n",
      "2. producing the correct result;\n",
      "3. ensuring that your code is readable."
     ]
    },
    {
     "cell_type": "markdown",
     "metadata": {
      "slideshow": {
       "slide_type": "slide"
      }
     },
     "source": [
      "Please submit your homework by saving the solution to each problem as a separate script with a filename that is composed of your last name, followed by the name of the problem (e.g. \"smith-problem1.py\").\n",
      "\n",
      "**E-mail your solutions as an e-mail attachment (3 scripts) to `g.barentsen@herts.ac.uk` by Sunday (19 Oct 2014) to be considered for full marks.**\n",
      "\n",
      "Remember that you are expected to solve these problems individually."
     ]
    },
    {
     "cell_type": "markdown",
     "metadata": {
      "slideshow": {
       "slide_type": "slide"
      }
     },
     "source": [
      "How to get points for readable code?\n",
      "---------------------------------\n",
      "By convention, Python programmers ensure that their code is easy to understand by starting each script with a one-line description of what it does, followed by an empty line, and then optionally followed by more information."
     ]
    },
    {
     "cell_type": "markdown",
     "metadata": {
      "slideshow": {
       "slide_type": "slide"
      }
     },
     "source": [
      "You can include comments across multiple lines using triple quotes (`\"\"\"`). For example, the first few lines of your solution to problem 1 should look as follows:\n",
      "\n",
      "```\n",
      "\"\"\"Prints the numbers from 0 to 500 to the screen.\n",
      "\n",
      "This script was created by John Smith on 13 Oct 2014 as part of\n",
      "the coursework for the Programming & Statistics course.\"\"\"\n",
      "```"
     ]
    },
    {
     "cell_type": "markdown",
     "metadata": {
      "slideshow": {
       "slide_type": "slide"
      }
     },
     "source": [
      "In addition to the documentation at the top, Python programmers will include short comments in parts of the code that may be difficult to understand. You can use the hash character (`#`) to include a comment in a single line. For example:\n",
      "```\n",
      "# Print f to 2 decimal places\n",
      "print \"{0:.2f}.format(f)\"\n",
      "```\n",
      "or directly behind the a line of code:\n",
      "```\n",
      "print \"{0:.2f}.format(f)\"  # Print f to 2 decimal places\n",
      "```"
     ]
    },
    {
     "cell_type": "markdown",
     "metadata": {
      "slideshow": {
       "slide_type": "slide"
      }
     },
     "source": [
      "Problem 1\n",
      "---------\n",
      "\n",
      "Write a script that displays the numbers between 1 and 500 that are multiples of 7."
     ]
    },
    {
     "cell_type": "markdown",
     "metadata": {
      "slideshow": {
       "slide_type": "slide"
      }
     },
     "source": [
      "Problem 2\n",
      "---------\n",
      "Use a nested for-loop (i.e. a for loop within another for loop) that displays the following, nicely-formatted, 5-by-5 multiplication table:\n",
      "\n",
      "```\n",
      "1  2  3  4  5\n",
      "2  4  6  8 10\n",
      "3  6  9 12 15\n",
      "4  8 12 16 20\n",
      "5 10 15 20 25\n",
      "```"
     ]
    },
    {
     "cell_type": "markdown",
     "metadata": {
      "slideshow": {
       "slide_type": "slide"
      }
     },
     "source": [
      "Hint: you can use the following command to print an integer `i` such that it always takes up at least two characters (i.e. this adds a leading whitespace if the number is a single digit):"
     ]
    },
    {
     "cell_type": "code",
     "collapsed": false,
     "input": [
      "i = 4\n",
      "print \"{0:2d}\".format(i)"
     ],
     "language": "python",
     "metadata": {},
     "outputs": [
      {
       "output_type": "stream",
       "stream": "stdout",
       "text": [
        " 4\n"
       ]
      }
     ],
     "prompt_number": 1
    },
    {
     "cell_type": "markdown",
     "metadata": {
      "slideshow": {
       "slide_type": "slide"
      }
     },
     "source": [
      "You will find that the `print` command produces a new line by default, you can avoid this by adding a comma a the end, e.g.:"
     ]
    },
    {
     "cell_type": "code",
     "collapsed": false,
     "input": [
      "print \"2\"   # This will produce a new line after printing \"2\"\n",
      "print \"2\",  # This will NOT produce a new line after printing \"2\""
     ],
     "language": "python",
     "metadata": {},
     "outputs": [
      {
       "output_type": "stream",
       "stream": "stdout",
       "text": [
        "2\n",
        "2\n"
       ]
      }
     ],
     "prompt_number": 3
    },
    {
     "cell_type": "markdown",
     "metadata": {
      "slideshow": {
       "slide_type": "slide"
      }
     },
     "source": [
      "To create a new line, you can do the following:"
     ]
    },
    {
     "cell_type": "code",
     "collapsed": false,
     "input": [
      "print \"\\n\",  # The new line character is \"\\n\"\n",
      "print \"\",    # But this produces a new line as well"
     ],
     "language": "python",
     "metadata": {},
     "outputs": []
    },
    {
     "cell_type": "markdown",
     "metadata": {
      "slideshow": {
       "slide_type": "slide"
      }
     },
     "source": [
      "Problem 3\n",
      "---------\n",
      "\n",
      "Write a game called \"Guess The Password\", which offers a player 3 attempts to guess one of the passwords contained in this list:"
     ]
    },
    {
     "cell_type": "code",
     "collapsed": false,
     "input": [
      "passwords = ['elephant', 'apple', 'fish']"
     ],
     "language": "python",
     "metadata": {},
     "outputs": [],
     "prompt_number": 5
    },
    {
     "cell_type": "markdown",
     "metadata": {
      "slideshow": {
       "slide_type": "fragment"
      }
     },
     "source": [
      "As soon as the player guesses correctly, the game prints a congratulations message. After 3 incorrect attempts, the game informs the player that he/she has lost. For example, the game might look like this:\n",
      "\n",
      "```\n",
      "=============================\n",
      "Welcome to Guess The Password\n",
      "=============================\n",
      "Enter your guess: cat\n",
      "Wrong guess, try again!\n",
      "Enter your guess: fish\n",
      "Congratulations, your guess is correct!\n",
      "```\n",
      "\n",
      "or like this:\n",
      "\n",
      "```\n",
      "=============================\n",
      "Welcome to Guess The Password\n",
      "=============================\n",
      "Enter your guess: cat\n",
      "Wrong guess, try again!\n",
      "Enter your guess: dog\n",
      "Wrong guess, try again!\n",
      "Enter your guess: bird\n",
      "Sorry, three incorrect attempts, you lose!\n",
      "```"
     ]
    },
    {
     "cell_type": "markdown",
     "metadata": {
      "slideshow": {
       "slide_type": "slide"
      }
     },
     "source": [
      "Remember, you can use the following function to obtain input from the player:"
     ]
    },
    {
     "cell_type": "code",
     "collapsed": false,
     "input": [
      "guess = raw_input(\"Enter your guess: \")"
     ],
     "language": "python",
     "metadata": {},
     "outputs": []
    }
   ],
   "metadata": {}
  }
 ]
}