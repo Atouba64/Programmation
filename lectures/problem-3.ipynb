{
 "metadata": {
  "name": ""
 },
 "nbformat": 3,
 "nbformat_minor": 0,
 "worksheets": [
  {
   "cells": [
    {
     "cell_type": "markdown",
     "metadata": {
      "slideshow": {
       "slide_type": "slide"
      }
     },
     "source": [
      "Practice Assignment 3\n",
      "=====================\n"
     ]
    },
    {
     "cell_type": "markdown",
     "metadata": {
      "slideshow": {
       "slide_type": "slide"
      }
     },
     "source": [
      "Introduction\n",
      "------------\n",
      "\n",
      "Last week we investigated the evolution of temperatures in England. In this exercise we will look at related data set, namely the concentration of CO2 in the atmosphere."
     ]
    },
    {
     "cell_type": "markdown",
     "metadata": {
      "slideshow": {
       "slide_type": "slide"
      }
     },
     "source": [
      "If you haven't already done so during the lecture on reading files, you need to download [this file](co2data.txt) (called \"co2data.txt\") which contains the average atmospheric levels of CO2 between 1959 and 2012. \n",
      "\n",
      "The measurements were collected by the Mauna Loa Observatory in Hawaii, and form a very important data set because the observatory is the oldest continuous CO2 monitoring station in the world. The CO2 measurements are given in units \"parts per million\" (ppm) and look like this (taken from [this](http://en.wikipedia.org/wiki/Keeling_Curve) Wikipedia page):\n",
      "\n",
      "![](http://upload.wikimedia.org/wikipedia/commons/thumb/1/15/Mauna_Loa_Carbon_Dioxide_Apr2013.svg/300px-Mauna_Loa_Carbon_Dioxide_Apr2013.svg.png)"
     ]
    },
    {
     "cell_type": "markdown",
     "metadata": {
      "slideshow": {
       "slide_type": "slide"
      }
     },
     "source": [
      "Before you start the exercises, make sure you go to the directory containing the file by typing, e.g.:\n",
      "\n",
      "    !cd \"U:/My Documents/Downloads\""
     ]
    },
    {
     "cell_type": "markdown",
     "metadata": {
      "slideshow": {
       "slide_type": "slide"
      }
     },
     "source": [
      "Exercise 1\n",
      "----------\n",
      "\n",
      "**Open the data file using ``f = open('co2data.txt')`` and read the first and second columns of the file into two separate lists called ``year`` and ``co2``. Then convert those two lists into Numpy arrays.**"
     ]
    },
    {
     "cell_type": "markdown",
     "metadata": {
      "slideshow": {
       "slide_type": "skip"
      }
     },
     "source": [
      "\n",
      "...\n",
      "\n",
      "...\n",
      "\n",
      "...\n",
      "\n",
      "*Solution*:\n"
     ]
    },
    {
     "cell_type": "code",
     "collapsed": false,
     "input": [
      "# Create empty lists\n",
      "year = []\n",
      "co2 = []\n",
      "\n",
      "# Open the file\n",
      "f = open('co2data.txt', 'r')\n",
      "# Ignore the header line\n",
      "header = f.readline()  \n",
      "\n",
      "# Loop over lines and extract variables of interest\n",
      "for line in f:\n",
      "    line = line.strip()\n",
      "    columns = line.split()\n",
      "    year.append(int(columns[0]))  # Don't forget to convert from string to integer\n",
      "    co2.append(float(columns[1]))  # Don't forget to convert from string to float\n",
      "\n",
      "# Convert the lists into arrays    \n",
      "import numpy as np\n",
      "year = np.array(year)\n",
      "co2 = np.array(co2)"
     ],
     "language": "python",
     "metadata": {
      "slideshow": {
       "slide_type": "slide"
      }
     },
     "outputs": [],
     "prompt_number": 200
    },
    {
     "cell_type": "code",
     "collapsed": false,
     "input": [
      "year"
     ],
     "language": "python",
     "metadata": {
      "slideshow": {
       "slide_type": "slide"
      }
     },
     "outputs": [
      {
       "metadata": {},
       "output_type": "pyout",
       "prompt_number": 201,
       "text": [
        "array([1959, 1960, 1961, 1962, 1963, 1964, 1965, 1966, 1967, 1968, 1969,\n",
        "       1970, 1971, 1972, 1973, 1974, 1975, 1976, 1977, 1978, 1979, 1980,\n",
        "       1981, 1982, 1983, 1984, 1985, 1986, 1987, 1988, 1989, 1990, 1991,\n",
        "       1992, 1993, 1994, 1995, 1996, 1997, 1998, 1999, 2000, 2001, 2002,\n",
        "       2003, 2004, 2005, 2006, 2007, 2008, 2009, 2010, 2011, 2012])"
       ]
      }
     ],
     "prompt_number": 201
    },
    {
     "cell_type": "code",
     "collapsed": false,
     "input": [
      "co2"
     ],
     "language": "python",
     "metadata": {},
     "outputs": [
      {
       "metadata": {},
       "output_type": "pyout",
       "prompt_number": 202,
       "text": [
        "array([ 315.97,  316.91,  317.64,  318.45,  318.99,  319.62,  320.04,\n",
        "        321.38,  322.16,  323.04,  324.62,  325.68,  326.32,  327.45,\n",
        "        329.68,  330.18,  331.08,  332.05,  333.78,  335.41,  336.78,\n",
        "        338.68,  340.1 ,  341.44,  343.03,  344.58,  346.04,  347.39,\n",
        "        349.16,  351.56,  353.07,  354.35,  355.57,  356.38,  357.07,\n",
        "        358.82,  360.8 ,  362.59,  363.71,  366.65,  368.33,  369.52,\n",
        "        371.13,  373.22,  375.77,  377.49,  379.8 ,  381.9 ,  383.76,\n",
        "        385.59,  387.37,  389.85,  391.63,  393.82])"
       ]
      }
     ],
     "prompt_number": 202
    },
    {
     "cell_type": "markdown",
     "metadata": {
      "slideshow": {
       "slide_type": "slide"
      }
     },
     "source": [
      "Note: the ``loadtxt()`` function in Numpy allows you to solve this exercise in just three lines:"
     ]
    },
    {
     "cell_type": "code",
     "collapsed": false,
     "input": [
      "data = np.loadtxt('co2data.txt')\n",
      "year = data[:,0]\n",
      "co2 = data[:,1]"
     ],
     "language": "python",
     "metadata": {},
     "outputs": [],
     "prompt_number": 203
    },
    {
     "cell_type": "markdown",
     "metadata": {},
     "source": [
      "... but this only works because our text file has a very simply structure which Numpy can understand. In many cases this won't work, which is why this exercise asked you to use the more generic file ``open()`` function."
     ]
    },
    {
     "cell_type": "markdown",
     "metadata": {
      "slideshow": {
       "slide_type": "slide"
      }
     },
     "source": [
      "Exercise 2\n",
      "----------\n",
      "\n",
      "**Create a scatter plot of the measurements with ``year`` on the x-axis and ``co2`` on the y-axis.**"
     ]
    },
    {
     "cell_type": "markdown",
     "metadata": {
      "slideshow": {
       "slide_type": "skip"
      }
     },
     "source": [
      "\n",
      "...\n",
      "\n",
      "...\n",
      "\n",
      "...\n",
      "\n",
      "*Solution*:\n"
     ]
    },
    {
     "cell_type": "code",
     "collapsed": false,
     "input": [
      "plt.plot(year, co2, '.')\n",
      "# Aesthethics:\n",
      "plt.title(\"Atmospheric concentration of CO2\")\n",
      "plt.xlabel(\"Year\")\n",
      "plt.ylabel(\"Parts Per Million\")\n",
      "plt.grid()  # Makes the plot easy to read by adding a background grid"
     ],
     "language": "python",
     "metadata": {
      "slideshow": {
       "slide_type": "slide"
      }
     },
     "outputs": [
      {
       "metadata": {},
       "output_type": "display_data",
       "png": "[encoded data removed]",
       "text": [
        "<matplotlib.figure.Figure at 0x5fa8390>"
       ]
      }
     ],
     "prompt_number": 204
    },
    {
     "cell_type": "markdown",
     "metadata": {
      "slideshow": {
       "slide_type": "slide"
      }
     },
     "source": [
      "Exercise 3\n",
      "----------\n",
      "\n",
      "**Fit a straight line through the data, and plot that line together with the data on a graph.**"
     ]
    },
    {
     "cell_type": "markdown",
     "metadata": {
      "slideshow": {
       "slide_type": "skip"
      }
     },
     "source": [
      "\n",
      "...\n",
      "\n",
      "...\n",
      "\n",
      "...\n",
      "\n",
      "*Solution*:\n"
     ]
    },
    {
     "cell_type": "code",
     "collapsed": false,
     "input": [
      "# Define the curve to be fitted\n",
      "def line(x, a, b):\n",
      "    return a * x + b  # a straight line\n",
      "\n",
      "# Find the optimal parameters\n",
      "from scipy.optimize import curve_fit\n",
      "popt, pcov = curve_fit(line, year, co2)\n",
      "\n",
      "# Print the results\n",
      "print \"Resulting model:\"\n",
      "print \"co2 = a * year + b\"\n",
      "print \"a = \" + str(popt[0])\n",
      "print \"b = \" + str(popt[1])"
     ],
     "language": "python",
     "metadata": {
      "slideshow": {
       "slide_type": "slide"
      }
     },
     "outputs": [
      {
       "output_type": "stream",
       "stream": "stdout",
       "text": [
        "Resulting model:\n",
        "co2 = a * year + b\n",
        "a = 1.48305698494\n",
        "b = -2595.58371769\n"
       ]
      }
     ],
     "prompt_number": 205
    },
    {
     "cell_type": "code",
     "collapsed": false,
     "input": [
      "# Now plot the results\n",
      "plt.plot(year, line(year, popt[0], popt[1]), color='red', linewidth=2)\n",
      "plt.plot(year, co2, '.')\n",
      "# Aesthetics:\n",
      "plt.title(\"Atmospheric concentration of CO2\")\n",
      "plt.xlabel(\"Year\")\n",
      "plt.ylabel(\"Parts Per Million\")\n",
      "plt.grid()"
     ],
     "language": "python",
     "metadata": {
      "slideshow": {
       "slide_type": "slide"
      }
     },
     "outputs": [
      {
       "metadata": {},
       "output_type": "display_data",
       "png": "[encoded data removed]",
       "text": [
        "<matplotlib.figure.Figure at 0x93ccc10>"
       ]
      }
     ],
     "prompt_number": 206
    },
    {
     "cell_type": "markdown",
     "metadata": {
      "slideshow": {
       "slide_type": "slide"
      }
     },
     "source": [
      "Exercise 4\n",
      "----------\n",
      "\n"
     ]
    },
    {
     "cell_type": "markdown",
     "metadata": {
      "slideshow": {
       "slide_type": "slide"
      }
     },
     "source": [
      "Note that the straight line does not fit the data very well. It is thought that the amount of CO2 in the atmosphere is increasing *exponentially* rathern than *linearly*.\n",
      "\n",
      "**Hence, repeat the previous exercise, but this time fit a cubic function rather than a straight line. Plot the results.**"
     ]
    },
    {
     "cell_type": "markdown",
     "metadata": {
      "slideshow": {
       "slide_type": "skip"
      }
     },
     "source": [
      "\n",
      "...\n",
      "\n",
      "...\n",
      "\n",
      "...\n",
      "\n",
      "*Solution*:\n"
     ]
    },
    {
     "cell_type": "code",
     "collapsed": false,
     "input": [
      "def cubic(x, a, b, c):\n",
      "    return a*x**2 + b*x + c\n",
      "\n",
      "popt, pcov = curve_fit(cubic, year, co2)\n",
      "\n",
      "print \"Resulting model:\"\n",
      "print \"co2 = a * year^2 + n * year + c\"\n",
      "print \"a = \" + str(popt[0])\n",
      "print \"b = \" + str(popt[1])\n",
      "print \"c = \" + str(popt[2])"
     ],
     "language": "python",
     "metadata": {
      "slideshow": {
       "slide_type": "slide"
      }
     },
     "outputs": [
      {
       "output_type": "stream",
       "stream": "stdout",
       "text": [
        "Resulting model:\n",
        "co2 = a * year^2 + n * year + c\n",
        "a = 0.0118606733912\n",
        "b = -45.6156770603\n",
        "c = 44158.8033505\n"
       ]
      }
     ],
     "prompt_number": 207
    },
    {
     "cell_type": "code",
     "collapsed": false,
     "input": [
      "# Again, plot the results:\n",
      "plt.plot(year, cubic(year, *popt), color='red', linewidth=2)\n",
      "plt.plot(year, co2, '.')\n",
      "# Aesthetics:\n",
      "plt.title(\"Atmospheric concentration of CO2\")\n",
      "plt.xlabel(\"Year\")\n",
      "plt.ylabel(\"Parts Per Million\")\n",
      "plt.grid()"
     ],
     "language": "python",
     "metadata": {
      "slideshow": {
       "slide_type": "slide"
      }
     },
     "outputs": [
      {
       "metadata": {},
       "output_type": "display_data",
       "png": "[encoded data removed]",
       "text": [
        "<matplotlib.figure.Figure at 0x8d0b310>"
       ]
      }
     ],
     "prompt_number": 208
    },
    {
     "cell_type": "markdown",
     "metadata": {
      "slideshow": {
       "slide_type": "slide"
      }
     },
     "source": [
      "Exercise 5\n",
      "----------\n",
      "\n",
      "The cubic function is clearly a much better model. We have reasons to believe that the model might stay valid into the future, because there is no political agreement to reduce the CO2 emissions at present. This means that we can consider using the model to make predictions for the future.\n",
      "\n",
      "**Use the model you found in the previous exercise the predict the level of CO2 in the year 2100. Subsequently, save your results by saving the prediction and the model to a text file, as well as a relevant plot showing the prediction.*** \n"
     ]
    },
    {
     "cell_type": "markdown",
     "metadata": {
      "slideshow": {
       "slide_type": "skip"
      }
     },
     "source": [
      "\n",
      "...\n",
      "\n",
      "...\n",
      "\n",
      "...\n",
      "\n",
      "*Solution*:\n"
     ]
    },
    {
     "cell_type": "code",
     "collapsed": false,
     "input": [
      "# Simply call our own \"cubic\" function with the fitted parameters\n",
      "prediction = cubic(2100, *popt)\n",
      "print \"The level of CO2 in 2100 as predicted by a cubic model = \" + str(prediction) + \"ppm\""
     ],
     "language": "python",
     "metadata": {
      "slideshow": {
       "slide_type": "slide"
      }
     },
     "outputs": [
      {
       "output_type": "stream",
       "stream": "stdout",
       "text": [
        "The level of CO2 in 2100 as predicted by a cubic model = 671.451179191ppm\n"
       ]
      }
     ],
     "prompt_number": 209
    },
    {
     "cell_type": "code",
     "collapsed": false,
     "input": [
      "# Write the prediction and the model to a text file\n",
      "f = open('results.txt', 'w')\n",
      "f.write(\"The level of CO2 in 2100 as predicted by a cubic model equals \" + str(prediction) + \" ppm\\n\\n\"\n",
      "        + \"The details of the prediction model are:\\n\"\n",
      "        + \"co2 = a * year^2 + n * year + c\\n\"\n",
      "        + \"a =\" + str(popt[0]) + \"\\n\"\n",
      "        + \"b =\" + str(popt[1]) + \"\\n\"\n",
      "        + \"c =\" + str(popt[2]) + \"\\n\")\n",
      "f.close()"
     ],
     "language": "python",
     "metadata": {
      "slideshow": {
       "slide_type": "slide"
      }
     },
     "outputs": [],
     "prompt_number": 210
    },
    {
     "cell_type": "code",
     "collapsed": false,
     "input": [
      "# Visualise the prediction\n",
      "predicted_years = np.arange(1950, 2100, 1)\n",
      "plt.plot(predicted_years, cubic(predicted_years, *popt), color=\"red\", linewidth=2, label=\"Prediction\")\n",
      "plt.plot(year, co2, '.', label=\"Data\")\n",
      "# Aesthetics:\n",
      "plt.title(\"Atmospheric concentration of CO2\")\n",
      "plt.xlabel(\"Year\")\n",
      "plt.ylabel(\"Parts Per Million\")\n",
      "plt.grid()\n",
      "plt.legend(loc=\"upper left\")\n",
      "# Save to a file\n",
      "plt.savefig('results.png')"
     ],
     "language": "python",
     "metadata": {
      "slideshow": {
       "slide_type": "slide"
      }
     },
     "outputs": [
      {
       "metadata": {},
       "output_type": "display_data",
       "png": "[encoded data removed]",
       "text": [
        "<matplotlib.figure.Figure at 0x93cc3d0>"
       ]
      }
     ],
     "prompt_number": 211
    },
    {
     "cell_type": "markdown",
     "metadata": {},
     "source": [
      "Of course you should be aware that our model, and hence the prediction, will be wrong if CO2 emissions get reduced in the near future!"
     ]
    },
    {
     "cell_type": "markdown",
     "metadata": {
      "slideshow": {
       "slide_type": "slide"
      }
     },
     "source": [
      "Optional extras\n",
      "---------------\n",
      "\n",
      "Extension 1: compare the prediction of the linear model against the cubic model using a graph.\n",
      "\n",
      "Extension 2: read the data uncertainties from the data file (third column) and add them to the plots and the models.\n",
      "\n",
      "Extension 3: read in the temperature data we used last week and fit a temperature model. Then plot both the temperature and CO2 models together on a graph."
     ]
    }
   ],
   "metadata": {}
  }
 ]
}