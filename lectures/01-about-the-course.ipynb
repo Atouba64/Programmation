{
 "metadata": {
  "name": ""
 },
 "nbformat": 3,
 "nbformat_minor": 0,
 "worksheets": [
  {
   "cells": [
    {
     "cell_type": "markdown",
     "metadata": {
      "slideshow": {
       "slide_type": "slide"
      }
     },
     "source": [
      "About the course\n",
      "================"
     ]
    },
    {
     "cell_type": "markdown",
     "metadata": {
      "slideshow": {
       "slide_type": "slide"
      }
     },
     "source": [
      "Introduction\n",
      "------------\n",
      "\n",
      "My name is <a href=\"http://researchprofiles.herts.ac.uk/portal/en/persons/geert-barentsen(d0b3e4c0-b9e3-44e4-8fe8-7512857c4cd6).html\">Geert Barentsen</a> and I work in the university as a post-doctoral researcher in the [Centre for Astrophysics Research](http://www.herts.ac.uk/research/stri/research-areas/car).\n",
      "I carry out research on star formation and, like many other scientists, I use **Python** to process data, analyse results and create visualisations which look like this:\n",
      "\n",
      "![](http://pythonhosted.org/guiqwt/_images/panorama.png)\n",
      "\n",
      "The aim of this course is to give you the power to use this very popular programming language."
     ]
    },
    {
     "cell_type": "markdown",
     "metadata": {
      "slideshow": {
       "slide_type": "slide"
      }
     },
     "source": [
      "Course outline\n",
      "--------------\n",
      "\n",
      "There will be five lectures on Tuesdays between 14h00 and 16h00 in room C160, on the following dates:\n",
      "\n",
      "- 12 Nov: Basics I (data types and control flow)\n",
      "- 19 Nov: Basics II (functions and reading/writing files)\n",
      "- 26 Nov: Data visualisation\n",
      "- 3 Dec: Interpolation, integration, fitting\n",
      "- 10 Dec: Object-oriented programming\n",
      "\n",
      "Each lecture will consist of two or three mini-presentations to explain new topics, followed by time to try and practice what was demonstrated in pairs."
     ]
    },
    {
     "cell_type": "markdown",
     "metadata": {
      "slideshow": {
       "slide_type": "slide"
      }
     },
     "source": [
      "Assignments\n",
      "-----------\n",
      "\n",
      "The only real way to learn Python is to **try it yourself**. Hence we will finish each lecture with a small **problem assignment** which you can submit by the end of the week to get feedback from me. I will make solutions available each Friday and you should try to look at them before the next lecture. \n",
      "\n",
      "The problem assignments will not be marked and not count towards your grade for Professional Skills. However, a list of those who submit solutions will be kept for Prof Sean Ryan as evidence of engagement.\n",
      "\n",
      "You are encouraged to work in pairs and help eachother."
     ]
    }
   ],
   "metadata": {}
  }
 ]
}