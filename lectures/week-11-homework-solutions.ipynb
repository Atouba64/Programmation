{
 "metadata": {
  "name": "",
  "signature": "sha256:79d6f82c8079977db78129dd582621452bcfb02c33cef7e427775d489a751f77"
 },
 "nbformat": 3,
 "nbformat_minor": 0,
 "worksheets": [
  {
   "cells": [
    {
     "cell_type": "markdown",
     "metadata": {},
     "source": [
      "Homework Week 11 - Solutions\n",
      "===================================="
     ]
    },
    {
     "cell_type": "markdown",
     "metadata": {},
     "source": [
      "Exercise 1\n",
      "----------"
     ]
    },
    {
     "cell_type": "code",
     "collapsed": false,
     "input": [
      "class Particle(object):\n",
      "    \n",
      "    def __init__(self, mass, x, y, z, vx, vy, vz):\n",
      "        self.mass = mass\n",
      "        self.x = x\n",
      "        self.y = y\n",
      "        self.z = z\n",
      "        self.vx = vx\n",
      "        self.vy = vy\n",
      "        self.vz = vz"
     ],
     "language": "python",
     "metadata": {},
     "outputs": [],
     "prompt_number": 1
    },
    {
     "cell_type": "code",
     "collapsed": false,
     "input": [
      "p = Particle(1., 5.5, 4.4, 3.4, 3.4, 4.4, 7.7)\n",
      "print \"Created a particle with mass\", p.mass, \"at position (\", p.x, p.y, p.z, \") and velocity (\", p.vx, p.vy, p.vz, \").\""
     ],
     "language": "python",
     "metadata": {},
     "outputs": [
      {
       "output_type": "stream",
       "stream": "stdout",
       "text": [
        "Created a particle with mass 1.0 at position ( 5.5 4.4 3.4 ) and velocity ( 3.4 4.4 7.7 ).\n"
       ]
      }
     ],
     "prompt_number": 2
    },
    {
     "cell_type": "markdown",
     "metadata": {},
     "source": [
      "Exercise 2\n",
      "-----------"
     ]
    },
    {
     "cell_type": "code",
     "collapsed": false,
     "input": [
      "class Particle(object):\n",
      "    \n",
      "    def __init__(self, mass, x, y, z, vx, vy, vz):\n",
      "        self.mass = mass\n",
      "        self.x = x\n",
      "        self.y = y\n",
      "        self.z = z\n",
      "        self.vx = vx\n",
      "        self.vy = vy\n",
      "        self.vz = vz\n",
      "        \n",
      "    def kinetic_energy(self):\n",
      "        return 0.5 * self.mass * (self.vx ** 2 + self.vy ** 2 + self.vz ** 2)"
     ],
     "language": "python",
     "metadata": {},
     "outputs": [],
     "prompt_number": 3
    },
    {
     "cell_type": "code",
     "collapsed": false,
     "input": [
      "p1 = Particle(1., 5.5, 4.4, 3.4, 3.4, 4.4, 7.7)\n",
      "p1.kinetic_energy()"
     ],
     "language": "python",
     "metadata": {},
     "outputs": [
      {
       "metadata": {},
       "output_type": "pyout",
       "prompt_number": 4,
       "text": [
        "45.105000000000004"
       ]
      }
     ],
     "prompt_number": 4
    },
    {
     "cell_type": "markdown",
     "metadata": {},
     "source": [
      "Exercise 3\n",
      "----------"
     ]
    },
    {
     "cell_type": "code",
     "collapsed": false,
     "input": [
      "import numpy as np\n",
      "\n",
      "class Particle(object):\n",
      "    \n",
      "    def __init__(self, mass, x, y, z, vx, vy, vz):\n",
      "        self.mass = mass\n",
      "        self.x = x\n",
      "        self.y = y\n",
      "        self.z = z\n",
      "        self.vx = vx\n",
      "        self.vy = vy\n",
      "        self.vz = vz\n",
      "        \n",
      "    def kinetic_energy(self):\n",
      "        return 0.5 * self.mass * (self.vx ** 2 + self.vy ** 2 + self.vz ** 2)\n",
      "    \n",
      "    def separation(self, other):\n",
      "        return np.sqrt((self.x - other.x) ** 2 + (self.y - other.y) ** 2 + (self.z - other.z) ** 2)"
     ],
     "language": "python",
     "metadata": {},
     "outputs": [],
     "prompt_number": 5
    },
    {
     "cell_type": "code",
     "collapsed": false,
     "input": [
      "p1 = Particle(1., 5.5, 4.4, 3.4, 3.4, 4.4, 7.7)\n",
      "p2 = Particle(0.2, 3.3, 4.1, 3.1, -2.2, 4.4, -5.4)\n",
      "p1.separation(p2)"
     ],
     "language": "python",
     "metadata": {},
     "outputs": [
      {
       "metadata": {},
       "output_type": "pyout",
       "prompt_number": 6,
       "text": [
        "2.2405356502408083"
       ]
      }
     ],
     "prompt_number": 6
    },
    {
     "cell_type": "markdown",
     "metadata": {},
     "source": [
      "Exercise 4\n",
      "----------"
     ]
    },
    {
     "cell_type": "code",
     "collapsed": false,
     "input": [
      "import numpy as np\n",
      "\n",
      "class Particle(object):\n",
      "    \n",
      "    def __init__(self, mass, x, y, z, vx, vy, vz):\n",
      "        self.mass = mass\n",
      "        self.x = x\n",
      "        self.y = y\n",
      "        self.z = z\n",
      "        self.vx = vx\n",
      "        self.vy = vy\n",
      "        self.vz = vz\n",
      "        \n",
      "    def kinetic_energy(self):\n",
      "        return 0.5 * self.mass * (self.vx ** 2 + self.vy ** 2 + self.vz ** 2)\n",
      "    \n",
      "    def separation(self, other):\n",
      "        return np.sqrt((self.x - other.x) ** 2 + (self.y - other.y) ** 2 + (self.z - other.z) ** 2)\n",
      "    \n",
      "    def move(self, dt):\n",
      "        self.x += dt * self.vx\n",
      "        self.y += dt * self.vy\n",
      "        self.z += dt * self.vz"
     ],
     "language": "python",
     "metadata": {},
     "outputs": [],
     "prompt_number": 7
    },
    {
     "cell_type": "code",
     "collapsed": false,
     "input": [
      "p1 = Particle(1., 5.5, 4.4, 3.4, 3.4, 4.4, 7.7)\n",
      "print \"Before move:\", p1.x, p1.y, p1.z\n",
      "p1.move(1.)\n",
      "print \"After move:\", p1.x, p1.y, p1.z"
     ],
     "language": "python",
     "metadata": {},
     "outputs": [
      {
       "output_type": "stream",
       "stream": "stdout",
       "text": [
        "Before move: 5.5 4.4 3.4\n",
        "After move: 8.9 8.8 11.1\n"
       ]
      }
     ],
     "prompt_number": 8
    },
    {
     "cell_type": "markdown",
     "metadata": {},
     "source": [
      "Additional demonstration:"
     ]
    },
    {
     "cell_type": "code",
     "collapsed": false,
     "input": [
      "for i in range(10):\n",
      "    p1.move(0.1)\n",
      "    print p1.x, p1.y, p1.z"
     ],
     "language": "python",
     "metadata": {},
     "outputs": [
      {
       "output_type": "stream",
       "stream": "stdout",
       "text": [
        "9.24 9.24 11.87\n",
        "9.58 9.68 12.64\n",
        "9.92 10.12 13.41\n",
        "10.26 10.56 14.18\n",
        "10.6 11.0 14.95\n",
        "10.94 11.44 15.72\n",
        "11.28 11.88 16.49\n",
        "11.62 12.32 17.26\n",
        "11.96 12.76 18.03\n",
        "12.3 13.2 18.8\n"
       ]
      }
     ],
     "prompt_number": 9
    },
    {
     "cell_type": "markdown",
     "metadata": {},
     "source": [
      "Exercise 5\n",
      "-----------"
     ]
    },
    {
     "cell_type": "code",
     "collapsed": false,
     "input": [
      "class ChargedParticle(Particle):\n",
      "\n",
      "    def __init__(self, mass, x, y, z, vx, vy, vz, charge):\n",
      "        self.charge = charge\n",
      "        Particle.__init__(self, mass, x, y, z, vx, vy, vz)  # avoids having to re-define all the attributes"
     ],
     "language": "python",
     "metadata": {},
     "outputs": [],
     "prompt_number": 10
    },
    {
     "cell_type": "code",
     "collapsed": false,
     "input": [
      "p3 = ChargedParticle(4., 2.2, 3.2, 4.3, 6.6, -2.3, 2.2, -1)"
     ],
     "language": "python",
     "metadata": {},
     "outputs": [],
     "prompt_number": 11
    },
    {
     "cell_type": "code",
     "collapsed": false,
     "input": [
      "p3.separation(p1)"
     ],
     "language": "python",
     "metadata": {},
     "outputs": [
      {
       "metadata": {},
       "output_type": "pyout",
       "prompt_number": 12,
       "text": [
        "20.304186760370378"
       ]
      }
     ],
     "prompt_number": 12
    },
    {
     "cell_type": "code",
     "collapsed": false,
     "input": [
      "p3.charge"
     ],
     "language": "python",
     "metadata": {},
     "outputs": [
      {
       "metadata": {},
       "output_type": "pyout",
       "prompt_number": 13,
       "text": [
        "-1"
       ]
      }
     ],
     "prompt_number": 13
    },
    {
     "cell_type": "markdown",
     "metadata": {},
     "source": [
      "Exercise 6\n",
      "----------\n",
      "\n",
      "Example solution:"
     ]
    },
    {
     "cell_type": "code",
     "collapsed": false,
     "input": [
      "%%file particles.py\n",
      "\n",
      "import numpy as np\n",
      "\n",
      "class Particle(object):\n",
      "    \n",
      "    def __init__(self, mass, x, y, z, vx, vy, vz):\n",
      "        self.mass = mass\n",
      "        self.x = x\n",
      "        self.y = y\n",
      "        self.z = z\n",
      "        self.vx = vx\n",
      "        self.vy = vy\n",
      "        self.vz = vz\n",
      "        \n",
      "    def kinetic_energy(self):\n",
      "        return 0.5 * self.mass * (self.vx ** 2 + self.vy ** 2 + self.vz ** 2)\n",
      "    \n",
      "    def separation(self, other):\n",
      "        return np.sqrt((self.x - other.x) ** 2 + (self.y - other.y) ** 2 + (self.z - other.z) ** 2)\n",
      "    \n",
      "    def move(self, dt):\n",
      "        self.x += dt * self.vx\n",
      "        self.y += dt * self.vy\n",
      "        self.z += dt * self.vz\n",
      "\n",
      "        \n",
      "class ChargedParticle(Particle):\n",
      "\n",
      "    def __init__(self, mass, x, y, z, vx, vy, vz, charge):\n",
      "        self.charge = charge\n",
      "        Particle.__init__(self, mass, x, y, z, vx, vy, vz)  # avoids having to re-define all the attributes\n",
      "\n",
      "        \n",
      "# Tests\n",
      "\n",
      "def test_kinetic_energy():\n",
      "    p = Particle(1., 0.0, 0.0, 0.0, 0.0, 0.0, 0.0)\n",
      "    assert p.kinetic_energy() == 0.0\n",
      "    p = Particle(1., 0.0, 0.0, 0.0, 1., 0.0, 0.0)\n",
      "    assert p.kinetic_energy() == 0.5\n",
      "    \n",
      "def test_separation():\n",
      "    p1 = Particle(0.2, 0.0, 0.0, 0.0, 0.0, 0.0, 0.0)\n",
      "    p2 = Particle(0.2, 1.0, 0.0, 0.0, 0.0, 0.0, 0.0)\n",
      "    assert p1.separation(p2) == 1.0\n",
      "    assert p2.separation(p1) == 1.0\n",
      "    \n",
      "def test_move():\n",
      "    p = Particle(0.2, 1.0, 2.0, 3.0, 1.0, 2.0, 3.0)\n",
      "    p.move(1.0)\n",
      "    assert p.x == 2.0\n",
      "    assert p.y == 4.0\n",
      "    assert p.z == 6.0\n",
      "    \n",
      "def test_charged_particle():\n",
      "    p = ChargedParticle(1., 0.0, 0.0, 0.0, 0.0, 0.0, 0.0, 99.0)\n",
      "    assert p.charge == 99.0\n",
      "    \n",
      "def test_particle_and_charged_particle():\n",
      "    p1 = Particle(1., 0.0, 0.0, 0.0, 0.0, 0.0, 0.0)\n",
      "    p2 = ChargedParticle(1., 1.0, 0.0, 0.0, 0.0, 0.0, 0.0, 99.0)\n",
      "    assert p1.separation(p2) == 1.0\n",
      "    assert p2.separation(p1) == 1.0"
     ],
     "language": "python",
     "metadata": {},
     "outputs": [
      {
       "output_type": "stream",
       "stream": "stdout",
       "text": [
        "Overwriting particles.py\n"
       ]
      }
     ],
     "prompt_number": 14
    },
    {
     "cell_type": "markdown",
     "metadata": {},
     "source": [
      "If you save the above program as ``particles.py``, then you can run the tests using:"
     ]
    },
    {
     "cell_type": "code",
     "collapsed": false,
     "input": [
      "import pytest\n",
      "pytest.main(\"particles.py\")"
     ],
     "language": "python",
     "metadata": {},
     "outputs": [
      {
       "output_type": "stream",
       "stream": "stdout",
       "text": [
        "==================================================== test session starts ===================================================="
       ]
      },
      {
       "output_type": "stream",
       "stream": "stdout",
       "text": [
        "\n"
       ]
      },
      {
       "output_type": "stream",
       "stream": "stdout",
       "text": [
        "platform linux2 -- Python 2.7.6 -- pytest-2.4.2"
       ]
      },
      {
       "output_type": "stream",
       "stream": "stdout",
       "text": [
        "\n"
       ]
      },
      {
       "output_type": "stream",
       "stream": "stdout",
       "text": [
        "collected 5 items"
       ]
      },
      {
       "output_type": "stream",
       "stream": "stdout",
       "text": [
        "\n"
       ]
      },
      {
       "output_type": "stream",
       "stream": "stdout",
       "text": [
        "\n"
       ]
      },
      {
       "output_type": "stream",
       "stream": "stdout",
       "text": [
        "particles.py "
       ]
      },
      {
       "output_type": "stream",
       "stream": "stdout",
       "text": [
        "."
       ]
      },
      {
       "output_type": "stream",
       "stream": "stdout",
       "text": [
        "."
       ]
      },
      {
       "output_type": "stream",
       "stream": "stdout",
       "text": [
        "."
       ]
      },
      {
       "output_type": "stream",
       "stream": "stdout",
       "text": [
        "."
       ]
      },
      {
       "output_type": "stream",
       "stream": "stdout",
       "text": [
        "."
       ]
      },
      {
       "output_type": "stream",
       "stream": "stdout",
       "text": [
        "\n"
       ]
      },
      {
       "output_type": "stream",
       "stream": "stdout",
       "text": [
        "\n"
       ]
      },
      {
       "output_type": "stream",
       "stream": "stdout",
       "text": [
        "================================================= 5 passed in 0.12 seconds =================================================="
       ]
      },
      {
       "output_type": "stream",
       "stream": "stdout",
       "text": [
        "\n"
       ]
      },
      {
       "metadata": {},
       "output_type": "pyout",
       "prompt_number": 15,
       "text": [
        "0"
       ]
      }
     ],
     "prompt_number": 15
    },
    {
     "cell_type": "markdown",
     "metadata": {},
     "source": [
      "Note: you might need to execute ``import particles`` followed by ``reload(particles)`` to ensure that changes in the script are taking into account during the test, i.e.:"
     ]
    },
    {
     "cell_type": "code",
     "collapsed": false,
     "input": [
      "import particles\n",
      "reload(particles)\n",
      "pytest.main(\"particles.py\")"
     ],
     "language": "python",
     "metadata": {},
     "outputs": [
      {
       "output_type": "stream",
       "stream": "stdout",
       "text": [
        "==================================================== test session starts ===================================================="
       ]
      },
      {
       "output_type": "stream",
       "stream": "stdout",
       "text": [
        "\n"
       ]
      },
      {
       "output_type": "stream",
       "stream": "stdout",
       "text": [
        "platform linux2 -- Python 2.7.6 -- pytest-2.4.2"
       ]
      },
      {
       "output_type": "stream",
       "stream": "stdout",
       "text": [
        "\n"
       ]
      },
      {
       "output_type": "stream",
       "stream": "stdout",
       "text": [
        "collected 5 items"
       ]
      },
      {
       "output_type": "stream",
       "stream": "stdout",
       "text": [
        "\n"
       ]
      },
      {
       "output_type": "stream",
       "stream": "stdout",
       "text": [
        "\n"
       ]
      },
      {
       "output_type": "stream",
       "stream": "stdout",
       "text": [
        "particles.py "
       ]
      },
      {
       "output_type": "stream",
       "stream": "stdout",
       "text": [
        "."
       ]
      },
      {
       "output_type": "stream",
       "stream": "stdout",
       "text": [
        "."
       ]
      },
      {
       "output_type": "stream",
       "stream": "stdout",
       "text": [
        "."
       ]
      },
      {
       "output_type": "stream",
       "stream": "stdout",
       "text": [
        "."
       ]
      },
      {
       "output_type": "stream",
       "stream": "stdout",
       "text": [
        "."
       ]
      },
      {
       "output_type": "stream",
       "stream": "stdout",
       "text": [
        "\n"
       ]
      },
      {
       "output_type": "stream",
       "stream": "stdout",
       "text": [
        "\n"
       ]
      },
      {
       "output_type": "stream",
       "stream": "stdout",
       "text": [
        "================================================= 5 passed in 0.04 seconds =================================================="
       ]
      },
      {
       "output_type": "stream",
       "stream": "stdout",
       "text": [
        "\n"
       ]
      },
      {
       "metadata": {},
       "output_type": "pyout",
       "prompt_number": 16,
       "text": [
        "0"
       ]
      }
     ],
     "prompt_number": 16
    }
   ],
   "metadata": {}
  }
 ]
}