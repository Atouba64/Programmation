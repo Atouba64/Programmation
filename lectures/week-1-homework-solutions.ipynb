{
 "metadata": {
  "celltoolbar": "Slideshow",
  "name": "",
  "signature": "sha256:58dd4396a6c7448f4b8ff208a1894bd00c9c9dcbfcea18d5f8460ad9a4af6d6f"
 },
 "nbformat": 3,
 "nbformat_minor": 0,
 "worksheets": [
  {
   "cells": [
    {
     "cell_type": "heading",
     "level": 1,
     "metadata": {
      "slideshow": {
       "slide_type": "slide"
      }
     },
     "source": [
      "Week 1 Homework Problems"
     ]
    },
    {
     "cell_type": "markdown",
     "metadata": {},
     "source": [
      "The problems below are aimed to help you get started with the basics of the Python syntax. They are shorter than the typical problems you will be given later in the course, but they are important to help your verify that you understand the basics."
     ]
    },
    {
     "cell_type": "heading",
     "level": 2,
     "metadata": {
      "slideshow": {
       "slide_type": "slide"
      }
     },
     "source": [
      "Problem 1 (strings)"
     ]
    },
    {
     "cell_type": "markdown",
     "metadata": {},
     "source": [
      "Given a string `s`, print a new string with the last character removed.\n",
      "\n",
      "For example:\n",
      "* `s=\"spam spam\"` => `\"spam spa\"`\n",
      "* `s=\"eggs eggs\"` => `\"eggs egg\"`"
     ]
    },
    {
     "cell_type": "markdown",
     "metadata": {},
     "source": [
      "**Solution:**"
     ]
    },
    {
     "cell_type": "code",
     "collapsed": false,
     "input": [
      "s = \"spam spam\"\n",
      "print s[0:-1]"
     ],
     "language": "python",
     "metadata": {},
     "outputs": [
      {
       "output_type": "stream",
       "stream": "stdout",
       "text": [
        "spam spa\n"
       ]
      }
     ],
     "prompt_number": 1
    },
    {
     "cell_type": "heading",
     "level": 2,
     "metadata": {
      "slideshow": {
       "slide_type": "slide"
      }
     },
     "source": [
      "Problem 2 (strings)"
     ]
    },
    {
     "cell_type": "markdown",
     "metadata": {},
     "source": [
      "Given a string `s` and an int `n`, print a new string where the character at index `n` has been removed."
     ]
    },
    {
     "cell_type": "markdown",
     "metadata": {},
     "source": [
      "For example, given:"
     ]
    },
    {
     "cell_type": "code",
     "collapsed": false,
     "input": [
      "s = 'spam spam'\n",
      "n = 2"
     ],
     "language": "python",
     "metadata": {},
     "outputs": [],
     "prompt_number": 2
    },
    {
     "cell_type": "markdown",
     "metadata": {},
     "source": [
      "The expected output is \"spm spam\"."
     ]
    },
    {
     "cell_type": "markdown",
     "metadata": {},
     "source": [
      "**Solution:**"
     ]
    },
    {
     "cell_type": "code",
     "collapsed": false,
     "input": [
      "print s[:n] + s[n+1:]"
     ],
     "language": "python",
     "metadata": {},
     "outputs": [
      {
       "output_type": "stream",
       "stream": "stdout",
       "text": [
        "spm spam\n"
       ]
      }
     ],
     "prompt_number": 3
    },
    {
     "cell_type": "heading",
     "level": 2,
     "metadata": {
      "slideshow": {
       "slide_type": "slide"
      }
     },
     "source": [
      "Problem 3 (strings)"
     ]
    },
    {
     "cell_type": "markdown",
     "metadata": {},
     "source": [
      "Given a floating point value `f`, print this number as a string with exactly 1 digit behind the decimal.\n",
      "\n",
      "For example:\n",
      "* `f=3.1415` => `\"3.1\"`\n",
      "* `f=0.6666` => `\"0.7\"`"
     ]
    },
    {
     "cell_type": "markdown",
     "metadata": {},
     "source": [
      "**Solution:**"
     ]
    },
    {
     "cell_type": "code",
     "collapsed": false,
     "input": [
      "f = 0.66666\n",
      "print \"{0:.1f}\".format(f)"
     ],
     "language": "python",
     "metadata": {},
     "outputs": [
      {
       "output_type": "stream",
       "stream": "stdout",
       "text": [
        "0.7\n"
       ]
      }
     ],
     "prompt_number": 4
    },
    {
     "cell_type": "heading",
     "level": 2,
     "metadata": {
      "slideshow": {
       "slide_type": "slide"
      }
     },
     "source": [
      "Exercise 4 (booleans)"
     ]
    },
    {
     "cell_type": "markdown",
     "metadata": {},
     "source": [
      "Given two integers, `x` and `y`, create a boolean which is `True` only if one of them is 100 or if their sum is 100.\n",
      "\n",
      "For example:\n",
      "\n",
      "* `x=80` and `y=20` => `True`\n",
      "* `x=80` and `y=21` => `False`\n",
      "* `x=100` and `y=21` => `True`\n",
      "* `x=0` and `y=100` => `True`"
     ]
    },
    {
     "cell_type": "markdown",
     "metadata": {},
     "source": [
      "**Solution:**"
     ]
    },
    {
     "cell_type": "code",
     "collapsed": false,
     "input": [
      "x = 80\n",
      "y = 20\n",
      "myboolean = (x == 100) or (y == 100) or (x + y == 100)\n",
      "print myboolean"
     ],
     "language": "python",
     "metadata": {},
     "outputs": [
      {
       "output_type": "stream",
       "stream": "stdout",
       "text": [
        "True\n"
       ]
      }
     ],
     "prompt_number": 5
    },
    {
     "cell_type": "markdown",
     "metadata": {},
     "source": [
      "(Note: the round brackets are optional in this case, but they can help make the code more readable.)"
     ]
    },
    {
     "cell_type": "heading",
     "level": 2,
     "metadata": {
      "slideshow": {
       "slide_type": "slide"
      }
     },
     "source": [
      "Exercise 5 (booleans)"
     ]
    },
    {
     "cell_type": "markdown",
     "metadata": {},
     "source": [
      "Given an integer `n`, create a boolean which is `True` only if `n` is an even number or if `n` is within 10 of 100 or 200.\n",
      "\n",
      "Hint: you can use the `abs()` function to compute an absolute value, and the `%` operator to obtain the remainder of a division."
     ]
    },
    {
     "cell_type": "markdown",
     "metadata": {},
     "source": [
      "For example:\n",
      "\n",
      "* `n=40` => `True`\n",
      "* `n=89` => `False`\n",
      "* `n=99` => `True`\n",
      "* `n=205` => `True`"
     ]
    },
    {
     "cell_type": "markdown",
     "metadata": {},
     "source": [
      "**Solution:**"
     ]
    },
    {
     "cell_type": "code",
     "collapsed": false,
     "input": [
      "n = 40\n",
      "myboolean = (n % 2 == 0) or abs(n - 100) < 10 or abs(n - 200) < 10\n",
      "print myboolean"
     ],
     "language": "python",
     "metadata": {},
     "outputs": [
      {
       "output_type": "stream",
       "stream": "stdout",
       "text": [
        "True\n"
       ]
      }
     ],
     "prompt_number": 6
    },
    {
     "cell_type": "heading",
     "level": 2,
     "metadata": {
      "slideshow": {
       "slide_type": "slide"
      }
     },
     "source": [
      "Exercise 6 (list)"
     ]
    },
    {
     "cell_type": "markdown",
     "metadata": {},
     "source": [
      "Given a list `l`, print only the first three elements.\n",
      "\n",
      "For example:\n",
      "* `l=[1, 2, 3, 4, 5, 6, 7, 8, 9]` => `[1, 2, 3]`\n",
      "* `l=['a', 'b', 'c', 'd']` => `['a', 'b', 'c']`"
     ]
    },
    {
     "cell_type": "markdown",
     "metadata": {},
     "source": [
      "**Solution:**"
     ]
    },
    {
     "cell_type": "code",
     "collapsed": false,
     "input": [
      "l = [1, 2, 3, 4, 5, 6, 7, 8, 9]\n",
      "print l[0:3]"
     ],
     "language": "python",
     "metadata": {},
     "outputs": [
      {
       "output_type": "stream",
       "stream": "stdout",
       "text": [
        "[1, 2, 3]\n"
       ]
      }
     ],
     "prompt_number": 7
    },
    {
     "cell_type": "heading",
     "level": 2,
     "metadata": {
      "slideshow": {
       "slide_type": "slide"
      }
     },
     "source": [
      "Exercise 7 (lists)"
     ]
    },
    {
     "cell_type": "markdown",
     "metadata": {},
     "source": [
      "Given a list `l` of length 3, print the list with the items in the reverse order.\n",
      "\n",
      "For example:\n",
      "* `l=[1, 2, 3]` => `[3, 2, 1]`\n",
      "* `l=['spam', 'spam', 'eggs']` => `['eggs', 'spam', 'spam]`"
     ]
    },
    {
     "cell_type": "markdown",
     "metadata": {},
     "source": [
      "**Solution:**"
     ]
    },
    {
     "cell_type": "code",
     "collapsed": false,
     "input": [
      "l = [1, 2, 3]\n",
      "print l[::-1]"
     ],
     "language": "python",
     "metadata": {},
     "outputs": [
      {
       "output_type": "stream",
       "stream": "stdout",
       "text": [
        "[3, 2, 1]\n"
       ]
      }
     ],
     "prompt_number": 8
    },
    {
     "cell_type": "heading",
     "level": 2,
     "metadata": {
      "slideshow": {
       "slide_type": "slide"
      }
     },
     "source": [
      "Exercise 8 (lists)"
     ]
    },
    {
     "cell_type": "markdown",
     "metadata": {},
     "source": [
      "Given a list of integers `l`, write a boolean expression which is `True` only if the number `7` appears as either the first or the last number in the list."
     ]
    },
    {
     "cell_type": "markdown",
     "metadata": {},
     "source": [
      "For example:\n",
      "\n",
      "* `l=[1, 2, 3]` => `False`\n",
      "* `l=[7, 4, 3]` => `True`\n",
      "* `l=[8, 0, 7]` => `True`"
     ]
    },
    {
     "cell_type": "markdown",
     "metadata": {},
     "source": [
      "**Solution:**"
     ]
    },
    {
     "cell_type": "code",
     "collapsed": false,
     "input": [
      "l = [1, 2, 3]\n",
      "myboolean = (l[0] == 7) or (l[-1] == 7)\n",
      "print myboolean"
     ],
     "language": "python",
     "metadata": {},
     "outputs": [
      {
       "output_type": "stream",
       "stream": "stdout",
       "text": [
        "False\n"
       ]
      }
     ],
     "prompt_number": 9
    },
    {
     "cell_type": "heading",
     "level": 2,
     "metadata": {
      "slideshow": {
       "slide_type": "slide"
      }
     },
     "source": [
      "Exercise 9 (lists)"
     ]
    },
    {
     "cell_type": "markdown",
     "metadata": {},
     "source": [
      "Given a list `l` of length 3, create a boolean which is `True` only if the list contains the number 2 or 3.\n",
      "\n",
      "For example:\n",
      "* `l=[6, 6, 6]` => `False`\n",
      "* `l=[0, 2, 4]` => `True`\n",
      "* `l=['a', 'b', 3]` => `True"
     ]
    },
    {
     "cell_type": "markdown",
     "metadata": {},
     "source": [
      "**Solution:**"
     ]
    },
    {
     "cell_type": "code",
     "collapsed": false,
     "input": [
      "l = [0, 2, 4]\n",
      "myboolean = (2 in l) or (3 in l)\n",
      "print myboolean"
     ],
     "language": "python",
     "metadata": {},
     "outputs": [
      {
       "output_type": "stream",
       "stream": "stdout",
       "text": [
        "True\n"
       ]
      }
     ],
     "prompt_number": 10
    },
    {
     "cell_type": "heading",
     "level": 2,
     "metadata": {
      "slideshow": {
       "slide_type": "slide"
      }
     },
     "source": [
      "Exercise 10 (lists)"
     ]
    },
    {
     "cell_type": "markdown",
     "metadata": {},
     "source": [
      "Given a series of measurements of the temperature in the classroom:"
     ]
    },
    {
     "cell_type": "code",
     "collapsed": false,
     "input": [
      "temp = [21.3, 20.5, 21.1, 22.1, 20.9,  21.3, -7.9, 21.0, 19.9]"
     ],
     "language": "python",
     "metadata": {},
     "outputs": [],
     "prompt_number": 11
    },
    {
     "cell_type": "markdown",
     "metadata": {},
     "source": [
      "Compute the mean value and the median.\n",
      "(The result should be 17.8 for the mean and 21.0 for the median.)\n",
      "\n",
      "Hint: use the `len`, `sum` and `sort` functions.\n",
      "\n",
      "\n"
     ]
    },
    {
     "cell_type": "markdown",
     "metadata": {},
     "source": [
      "**Solution:**"
     ]
    },
    {
     "cell_type": "code",
     "collapsed": false,
     "input": [
      "mean = sum(temp) / len(temp)\n",
      "print mean"
     ],
     "language": "python",
     "metadata": {},
     "outputs": [
      {
       "output_type": "stream",
       "stream": "stdout",
       "text": [
        "17.8\n"
       ]
      }
     ],
     "prompt_number": 12
    },
    {
     "cell_type": "code",
     "collapsed": false,
     "input": [
      "temp.sort()\n",
      "median = temp[len(temp) / 2]\n",
      "print median"
     ],
     "language": "python",
     "metadata": {},
     "outputs": [
      {
       "output_type": "stream",
       "stream": "stdout",
       "text": [
        "21.0\n"
       ]
      }
     ],
     "prompt_number": 13
    }
   ],
   "metadata": {}
  }
 ]
}