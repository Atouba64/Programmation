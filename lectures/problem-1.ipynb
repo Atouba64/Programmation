{
 "metadata": {
  "name": ""
 },
 "nbformat": 3,
 "nbformat_minor": 0,
 "worksheets": [
  {
   "cells": [
    {
     "cell_type": "markdown",
     "metadata": {},
     "source": [
      "Practice Assignment 1\n",
      "====================="
     ]
    },
    {
     "cell_type": "markdown",
     "metadata": {},
     "source": [
      "You should now be able to run Python code with basic objects and control flow. The problem below is a fairly simple exercise to check that you understand these basics, in future weeks the problems will become more scientifically interesting!\n",
      "\n",
      "Remember to comment your code. You can add comments by starting a line with a #:"
     ]
    },
    {
     "cell_type": "code",
     "collapsed": false,
     "input": [
      "# This is a comment"
     ],
     "language": "python",
     "metadata": {},
     "outputs": []
    },
    {
     "cell_type": "markdown",
     "metadata": {},
     "source": [
      "Problem\n",
      "=======\n",
      "\n",
      "**Write a program that prints out all the prime numbers (numbers divisible only by one and themselves) below 200.**\n",
      "\n",
      "Hint: remember that the % operator can be used to find the remainder of the division of an integer by another:"
     ]
    },
    {
     "cell_type": "code",
     "collapsed": false,
     "input": [
      "5 % 2"
     ],
     "language": "python",
     "metadata": {},
     "outputs": [
      {
       "metadata": {},
       "output_type": "pyout",
       "prompt_number": 1,
       "text": [
        "1"
       ]
      }
     ],
     "prompt_number": 1
    },
    {
     "cell_type": "markdown",
     "metadata": {},
     "source": [
      "Optional extension: can you also store all those prime numbers in a list and compute their mean value?"
     ]
    },
    {
     "cell_type": "markdown",
     "metadata": {},
     "source": [
      "Submitting your solution\n",
      "========================\n",
      "\n",
      "To submit your solution for feedback, use [this form](https://docs.google.com/forms/d/1JNcC2xI-U-HeHxONXj-EiawZ_UcPSPtOenR2275v2Vc/viewform) before the end of the week. If you have questions, please include them as comments in your code and I will try to get back to you via e-mail.\n",
      "\n",
      "The solution will be posted online on Friday afternoon."
     ]
    }
   ],
   "metadata": {}
  }
 ]
}