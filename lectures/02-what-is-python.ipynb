{
 "metadata": {
  "name": ""
 },
 "nbformat": 3,
 "nbformat_minor": 0,
 "worksheets": [
  {
   "cells": [
    {
     "cell_type": "markdown",
     "metadata": {
      "slideshow": {
       "slide_type": "slide"
      }
     },
     "source": [
      "What is Python?\n",
      "==============="
     ]
    },
    {
     "cell_type": "markdown",
     "metadata": {
      "slideshow": {
       "slide_type": "notes"
      }
     },
     "source": [
      "![Python Logo](http://www.python.org/community/logos/python-logo.png)"
     ]
    },
    {
     "cell_type": "markdown",
     "metadata": {
      "slideshow": {
       "slide_type": "slide"
      }
     },
     "source": [
      "First, what is 'Programming'?\n",
      "-----------------------------\n",
      "\n",
      "Being good at programming is not simply about knowing a programming language, it is about:\n",
      "\n",
      "* understanding a problem conceptually and being able to translate it into a computer program;\n",
      "* knowing how to fix your program when it does not work;\n",
      "* writing a program that is fast enough, **not** the fastest possible;\n",
      "* writing a program that can be understood by other people (or by yourself in a year!)"
     ]
    },
    {
     "cell_type": "markdown",
     "metadata": {
      "slideshow": {
       "slide_type": "notes"
      }
     },
     "source": [
      "In science, the last point is important, because **reproducible research** and **open science** is becoming the norm in certain fields of research, which means that others have to be able to read your code, and understand what you are doing, and be able to run it themselves. Likewise, in industry many companies demand that you write code which can be read and understood by your colleagues."
     ]
    },
    {
     "cell_type": "markdown",
     "metadata": {
      "slideshow": {
       "slide_type": "slide"
      }
     },
     "source": [
      "This course focuses on aspects of programming that would be useful to you in academic projects or research, but Python is a very popular language outside universities as well. Graduates who can combine math and science skills with programming are in high demand on the jobs market."
     ]
    },
    {
     "cell_type": "markdown",
     "metadata": {
      "slideshow": {
       "slide_type": "slide"
      }
     },
     "source": [
      "How does Python compare to other languages?\n",
      "---------------------------------------\n",
      "\n",
      "Python is a high-level **interpreted** language, which means that the code is not compiled in advance, which makes it slightly slower than languages like C/C++ or Fortran. So why is it popular?\n",
      "\n",
      "* It has a clean and simple syntax which is easy to read;\n",
      "* It gives detailed errors by default which makes it easier to fix bugs;\n",
      "* It can be used interactively;\n",
      "* It has a large ecosystem of packages available for everything from numerical analysis, databases, graphical interfaces...;\n",
      "* It can interact with existing C/Fortran code when speed is important."
     ]
    },
    {
     "cell_type": "markdown",
     "metadata": {
      "slideshow": {
       "slide_type": "slide"
      }
     },
     "source": [
      "How to run Python?\n",
      "------------------\n",
      "\n",
      "In this course we will use the *Spyder* software to run Python scripts. Spyder stands for Scientific PYthon Development EnviRonment and provides an environment which makes it easy to write and run Python code. It is pre-installed on the computers in C160 (Start > Anaconda > Spyder)."
     ]
    },
    {
     "cell_type": "markdown",
     "metadata": {
      "slideshow": {
       "slide_type": "slide"
      }
     },
     "source": [
      "If you would like to use Python at home or on your laptop, you can install the free [Anaconda Python distribution](http://continuum.io/downloads.html). Come and speak to me if you need help getting set up."
     ]
    },
    {
     "cell_type": "markdown",
     "metadata": {
      "slideshow": {
       "slide_type": "slide"
      }
     },
     "source": [
      "A note on Python 3\n",
      "------------------\n",
      "\n",
      "The latest version of Python is currently 3.3, but many people are still using version 2.7 (the latest 2.x release) because Python 3.x includes some changes which means that not all packages are ready. In this course, we will learn Python 2.x syntax, which is almost identical to Python 3."
     ]
    }
   ],
   "metadata": {}
  }
 ]
}