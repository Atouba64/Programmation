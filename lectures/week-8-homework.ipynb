{
 "metadata": {
  "name": "",
  "signature": "sha256:55a6450997d108248f899f7548bf4e825942aaa68038656af8b42cf881dbb789"
 },
 "nbformat": 3,
 "nbformat_minor": 0,
 "worksheets": [
  {
   "cells": [
    {
     "cell_type": "markdown",
     "metadata": {},
     "source": [
      "Week 8 homework problem\n",
      "======================="
     ]
    },
    {
     "cell_type": "markdown",
     "metadata": {},
     "source": [
      "The script below implements a simple calculator application. However, it currently crashes when:\n",
      "* a non-number is entered by accident;\n",
      "* an incorrect operation is requested;\n",
      "* a division by zero is requested.\n",
      "\n",
      "Edit the program to print nice error messages when these problems occur.  Use *exception handling* for this purpose."
     ]
    },
    {
     "cell_type": "code",
     "collapsed": false,
     "input": [
      "\"\"\"A simple calculator application.\"\"\"\n",
      "import sys\n",
      "\n",
      "def ask_number(prompt):\n",
      "    user_input = raw_input(prompt)\n",
      "    return float(user_input)\n",
      "\n",
      "def ask_operation():\n",
      "    operations = (\"+\", \"-\", \"*\", \"/\")\n",
      "    user_input = raw_input(\"Choose operation (\" + \", \".join(operations) + \"): \")\n",
      "    return user_input\n",
      "\n",
      "def calculate(number1, number2, operation):\n",
      "    if operation == \"+\":\n",
      "        return number1 + number2\n",
      "    elif operation == \"-\":\n",
      "        return number1 - number2\n",
      "    elif operation == \"*\":\n",
      "        return number1 * number2\n",
      "    elif operation == \"/\":\n",
      "        return number1 / number2\n",
      "\n",
      "\n",
      "if __name__ == \"__main__\":\n",
      "    number1 = ask_number(\"Give the first number: \")\n",
      "    operation = ask_operation()\n",
      "    number2 = ask_number(\"Give the second number: \")       \n",
      "    result = calculate(number1, number2, operation)\n",
      "    print \"Result: %.2f\" % result\n"
     ],
     "language": "python",
     "metadata": {},
     "outputs": [
      {
       "name": "stdout",
       "output_type": "stream",
       "stream": "stdout",
       "text": [
        "Give the first number: 1\n"
       ]
      },
      {
       "name": "stdout",
       "output_type": "stream",
       "stream": "stdout",
       "text": [
        "Choose operation (+, -, *, /): +\n"
       ]
      },
      {
       "name": "stdout",
       "output_type": "stream",
       "stream": "stdout",
       "text": [
        "Give the second number: 2\n"
       ]
      },
      {
       "output_type": "stream",
       "stream": "stdout",
       "text": [
        "Result: 3.00\n"
       ]
      }
     ],
     "prompt_number": 1
    }
   ],
   "metadata": {}
  }
 ]
}