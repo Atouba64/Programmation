{
 "metadata": {
  "name": ""
 },
 "nbformat": 3,
 "nbformat_minor": 0,
 "worksheets": [
  {
   "cells": [
    {
     "cell_type": "markdown",
     "metadata": {},
     "source": [
      "Practice Assignment 1: example solution\n",
      "======================================"
     ]
    },
    {
     "cell_type": "markdown",
     "metadata": {},
     "source": [
      "The code below shows an example solution to the first problem assignment."
     ]
    },
    {
     "cell_type": "code",
     "collapsed": false,
     "input": [
      "\"\"\"\n",
      "Prints all prime numbers below 200.\n",
      "\"\"\"\n",
      "\n",
      "for i in range(2, 200):\n",
      "\n",
      "    # Set prime 'flag' to initial value\n",
      "    prime = True\n",
      "\n",
      "    # Try and divide i by all values between j = 2 and i-1\n",
      "    # if none of them work, then the value is prime.\n",
      "    for j in range(2, i):\n",
      "\n",
      "        # Check if i is divisible by j\n",
      "        if i % j == 0:\n",
      "            prime = False\n",
      "            break\n",
      "\n",
      "    # If `prime` is still True, then the value is prime\n",
      "    if prime:\n",
      "        print i\n"
     ],
     "language": "python",
     "metadata": {},
     "outputs": [
      {
       "output_type": "stream",
       "stream": "stdout",
       "text": [
        "2\n",
        "3\n",
        "5\n",
        "7\n",
        "11\n",
        "13\n",
        "17\n",
        "19\n",
        "23\n",
        "29\n",
        "31\n",
        "37\n",
        "41\n",
        "43\n",
        "47\n",
        "53\n",
        "59\n",
        "61\n",
        "67\n",
        "71\n",
        "73\n",
        "79\n",
        "83\n",
        "89\n",
        "97\n",
        "101\n",
        "103\n",
        "107\n",
        "109\n",
        "113\n",
        "127\n",
        "131\n",
        "137\n",
        "139\n",
        "149\n",
        "151\n",
        "157\n",
        "163\n",
        "167\n",
        "173\n",
        "179\n",
        "181\n",
        "191\n",
        "193\n",
        "197\n",
        "199\n"
       ]
      }
     ],
     "prompt_number": 1
    }
   ],
   "metadata": {}
  }
 ]
}