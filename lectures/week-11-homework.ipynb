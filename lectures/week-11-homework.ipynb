{
 "metadata": {
  "name": "",
  "signature": "sha256:aa0d4a4a343d93b6edfad9fecbee485a155447f844db39b92f7ca983bc744cbb"
 },
 "nbformat": 3,
 "nbformat_minor": 0,
 "worksheets": [
  {
   "cells": [
    {
     "cell_type": "markdown",
     "metadata": {},
     "source": [
      "Week 11 Homework\n",
      "=====================\n",
      "\n",
      "This week's (unmarked) assignment is aimed to help you try and understand Object Oriented Programming and unit testing."
     ]
    },
    {
     "cell_type": "markdown",
     "metadata": {},
     "source": [
      "Exercises\n",
      "---------\n",
      "\n",
      "1. Write a ``Particle`` class that can be used to represent a particle with a mass, a 3-d position, and a 3-d velocity.\n",
      "\n",
      "2. Add a method called ``kinetic_energy``, which computes and returns the kinetic energy of the particle.\n",
      "\n",
      "3. Add a method called ``separation``, which takes another particle as an argument and returns the distance between the two particles.\n",
      "\n",
      "4. Add a method called ``move``, which takes a time interval *dt* as argument and will update the position of the particle to the new position based on the current position and velocity.\n",
      "\n",
      "5. Write a ``ChargedParticle`` class that inherits from the ``Particle`` class, but has an extra attribute for the charge of the particle.\n"
     ]
    }
   ],
   "metadata": {}
  }
 ]
}