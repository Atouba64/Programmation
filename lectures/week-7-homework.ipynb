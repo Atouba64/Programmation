{
 "metadata": {
  "name": "",
  "signature": "sha256:7879d80bc3ebab66212e94824484431844ff63e52d07675a4981a43bda4f69ad"
 },
 "nbformat": 3,
 "nbformat_minor": 0,
 "worksheets": [
  {
   "cells": [
    {
     "cell_type": "markdown",
     "metadata": {
      "slideshow": {
       "slide_type": "slide"
      }
     },
     "source": [
      "Week 7 Homework Problem\n",
      "=======================\n"
     ]
    },
    {
     "cell_type": "markdown",
     "metadata": {
      "slideshow": {
       "slide_type": "slide"
      }
     },
     "source": [
      "Introduction\n",
      "------------\n",
      "\n",
      "A few weeks ago we investigated the evolution of temperatures in England. In this exercise we will look at a related data set, namely the concentration of CO2 in the atmosphere."
     ]
    },
    {
     "cell_type": "markdown",
     "metadata": {
      "slideshow": {
       "slide_type": "slide"
      }
     },
     "source": [
      " You need to download [this file](co2data.txt) (called \"co2data.txt\") which contains the average atmospheric levels of CO2 between 1959 and 2013. The measurements were collected by the Mauna Loa Observatory in Hawaii, which is the oldest continuous CO2 monitoring station in the world. The CO2 measurements are given in units \"parts per million\" (ppm) and look like this (taken from [this](http://en.wikipedia.org/wiki/Keeling_Curve) Wikipedia page):\n",
      "\n",
      "![](http://upload.wikimedia.org/wikipedia/commons/thumb/1/15/Mauna_Loa_Carbon_Dioxide_Apr2013.svg/300px-Mauna_Loa_Carbon_Dioxide_Apr2013.svg.png)"
     ]
    },
    {
     "cell_type": "markdown",
     "metadata": {
      "slideshow": {
       "slide_type": "slide"
      }
     },
     "source": [
      "If you have troubles reading the data file after downloading, make sure you go to the directory containing the file by typing, e.g.:\n",
      "\n",
      "    !cd \"U:/My Documents/Downloads\""
     ]
    },
    {
     "cell_type": "markdown",
     "metadata": {
      "slideshow": {
       "slide_type": "slide"
      }
     },
     "source": [
      "Part 1: plot the measurements\n",
      "----------\n",
      "Create a scatter plot of the measurements in ``co2data.txt``, with ``year`` on the x-axis and ``co2`` concentration on the y-axis. Make sure that the graph is properly annotated (i.e. labels on both axes, and a title)."
     ]
    },
    {
     "cell_type": "markdown",
     "metadata": {
      "slideshow": {
       "slide_type": "slide"
      }
     },
     "source": [
      "Part 2: fit a straight line\n",
      "----------\n",
      "Fit a straight line to the data, and add that line to the graph."
     ]
    },
    {
     "cell_type": "markdown",
     "metadata": {
      "slideshow": {
       "slide_type": "slide"
      }
     },
     "source": [
      "Part 3: fit a 2nd-order polynomial\n",
      "----------\n",
      "\n"
     ]
    },
    {
     "cell_type": "markdown",
     "metadata": {
      "slideshow": {
       "slide_type": "slide"
      }
     },
     "source": [
      "Note that the straight line does not fit the data very well; it is thought that the amount of CO2 in the atmosphere is increasing faster than linear. Hence, try fitting a 2nd-order polynomial instead and add the curve to the graph."
     ]
    },
    {
     "cell_type": "markdown",
     "metadata": {
      "slideshow": {
       "slide_type": "slide"
      }
     },
     "source": [
      "Part 4: predict the CO2 concentration in 2050\n",
      "----------\n",
      "Use the 2nd-order polynomial fitted above to predict the level of CO2 in the year 2050.\n",
      "\n",
      "Save your prediction to a text file automatically, along with a few words of explanation. Also mark your prediction with a symbol on the graph."
     ]
    },
    {
     "cell_type": "markdown",
     "metadata": {},
     "source": [
      "Submitting your solution\n",
      "------------------------\n",
      "This is the (final) marked homework for programming. Please submit your solution as a single script which carries out each of the four steps.  Also submit a saved copy of the graph and the text file produced.\n",
      "\n",
      "**E-mail your solution (1 script + 1 graph + 1 text file) by e-mail to g.barentsen@herts.ac.uk by Sunday (23 Nov 2014).**"
     ]
    }
   ],
   "metadata": {}
  }
 ]
}