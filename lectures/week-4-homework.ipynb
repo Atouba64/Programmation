{
 "metadata": {
  "name": "",
  "signature": "sha256:65e8a77872bf64c7388c57b8c33e79516dc7d612db55d3d3fea618cee0f2018b"
 },
 "nbformat": 3,
 "nbformat_minor": 0,
 "worksheets": [
  {
   "cells": [
    {
     "cell_type": "heading",
     "level": 1,
     "metadata": {},
     "source": [
      "Week 4 Homework Problems"
     ]
    },
    {
     "cell_type": "markdown",
     "metadata": {},
     "source": [
      "The problems below are aimed to check if you understand the basics of defining functions, defining modules, and reading/writing files. You will also need some syntax from the previous lectures."
     ]
    },
    {
     "cell_type": "markdown",
     "metadata": {},
     "source": [
      "Your solutions to these exercises will be marked and count towards your final grade. Remember that you will get points for:\n",
      "1. using the correct method and syntax;\n",
      "2. producing the correct result;\n",
      "3. ensuring that your code is readable."
     ]
    },
    {
     "cell_type": "markdown",
     "metadata": {},
     "source": [
      "Please submit your homework by saving the solution to each problem as a separate script with a filename that is composed of your last name, followed by the name of the problem (e.g. \"smith-problem1.py\")."
     ]
    },
    {
     "cell_type": "markdown",
     "metadata": {},
     "source": [
      "**E-mail your solutions as an e-mail attachment (4 scripts) to g.barentsen@herts.ac.uk by Sunday (2 Nov 2014).**"
     ]
    },
    {
     "cell_type": "markdown",
     "metadata": {},
     "source": [
      "## Problem 1 (functions)\n",
      "\n",
      "Write a function called *is_vowel()* that takes a character as argument and returns ``True`` if the character is a vowel, and ``False`` otherwise. The vowels are a, e, i, o, u in both lower- and uppercase.\n",
      "\n",
      "For example:\n",
      "* `is_vowel(\"A\")` should return `True`\n",
      "* `is_vowel(\"e\")` should return `True`\n",
      "* `is_vowel(\"b\")` should return `False`"
     ]
    },
    {
     "cell_type": "markdown",
     "metadata": {},
     "source": [
      "## Problem 2 (functions)\n",
      "\n",
      "In cryptography, a Caesar cipher is a very simple encryption techniques in which each letter in the plain text is replaced by a letter some fixed number of positions down the alphabet. For example, with a shift of 3, A would be replaced by D, B would become E, and so on. The method is named after Julius Caesar, who used it to communicate with his generals.  ROT-13 (\"rotate by 13 places\") is a widely used example of a Caesar cipher where the shift is 13. In Python, the key for ROT-13 may be represented by means of the following dictionary:\n",
      "\n",
      "```\n",
      "key = {'a':'n', 'b':'o', 'c':'p', 'd':'q', 'e':'r', 'f':'s', 'g':'t', 'h':'u', \n",
      "       'i':'v', 'j':'w', 'k':'x', 'l':'y', 'm':'z', 'n':'a', 'o':'b', 'p':'c', \n",
      "       'q':'d', 'r':'e', 's':'f', 't':'g', 'u':'h', 'v':'i', 'w':'j', 'x':'k',\n",
      "       'y':'l', 'z':'m', 'A':'N', 'B':'O', 'C':'P', 'D':'Q', 'E':'R', 'F':'S', \n",
      "       'G':'T', 'H':'U', 'I':'V', 'J':'W', 'K':'X', 'L':'Y', 'M':'Z', 'N':'A', \n",
      "       'O':'B', 'P':'C', 'Q':'D', 'R':'E', 'S':'F', 'T':'G', 'U':'H', 'V':'I', \n",
      "       'W':'J', 'X':'K', 'Y':'L', 'Z':'M'}\n",
      "```\n",
      "\n",
      "Your task in this exercise is to implement an decoder of ROT-13. That is, you should implement a **function** called `decode()` which takes a string and returns the decoded version. For example, \n",
      "\n",
      "* `decode(\"Uryyb jbeyq\")` should return \"Hello world\"\n",
      "* `decode(\"Clguba vf rnfl\")` should return \"Python is easy\"\n",
      "\n",
      "Once you're done, you will be able to read the following secret message:\n",
      "```\n",
      "   Pnrfne pvcure? V zhpu cersre Pnrfne fnynq!\n",
      "```\n",
      "Note that since English has 26 characters, your ROT-13 program will be able to both encode and decode texts written in English."
     ]
    },
    {
     "cell_type": "markdown",
     "metadata": {},
     "source": [
      "## Problem 3 (files)\n",
      "\n",
      "The book Gulliver's Travels by Jonathan Swift is available for free because the copyright has expired. Download the book as a text file from this location:\n",
      "\n",
      "    https://www.gutenberg.org/files/829/829.txt\n",
      "\n",
      "Your task is to create a script that reads this file, and then creates a new text file in which all the lines from the original file are numbered from 1 to n (where n is the number of lines in the file). That first 5 lines of the new file should look like this:\n",
      "\n",
      "```\n",
      "1 The Project Gutenberg eBook, Gulliver's Travels, by Jonathan Swift\n",
      "2 \n",
      "3 \n",
      "4 This eBook is for the use of anyone anywhere at no cost and with\n",
      "5 almost no restrictions whatsoever.  You may copy it, give it away or\n",
      "```\n",
      "\n"
     ]
    },
    {
     "cell_type": "markdown",
     "metadata": {},
     "source": [
      "## Problem 4 (functions & files)\n",
      "\n",
      "Write a function called `count_vowels()` that takes the name of a text file as argument, and returns the number of vowels that appear in the text file.  Your solution should make use of the `is_vowel()` function which you created in exercise 1.\n",
      "\n",
      "Hint: the Gulliver's Travels text file contains 179169 vowels."
     ]
    }
   ],
   "metadata": {}
  }
 ]
}