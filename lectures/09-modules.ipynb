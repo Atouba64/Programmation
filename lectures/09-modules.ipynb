{
 "metadata": {
  "celltoolbar": "Slideshow",
  "name": "",
  "signature": "sha256:92f48304efbe53503e2b67fcc6a24b21692171f11633daac04e2077c15c34a62"
 },
 "nbformat": 3,
 "nbformat_minor": 0,
 "worksheets": [
  {
   "cells": [
    {
     "cell_type": "heading",
     "level": 1,
     "metadata": {
      "slideshow": {
       "slide_type": "slide"
      }
     },
     "source": [
      "Defining Modules"
     ]
    },
    {
     "cell_type": "markdown",
     "metadata": {},
     "source": [
      "If you restart Python, all the functions and variables you have defined are lost. Therefore, if you want to write a somewhat longer program, you are better off using a text editor to prepare the input. This is called a *script*."
     ]
    },
    {
     "cell_type": "markdown",
     "metadata": {
      "slideshow": {
       "slide_type": "slide"
      }
     },
     "source": [
      "As your program gets longer, or if you are frequently re-using the same functions, you may want to use the handy *import* function that you have used in previous lectures, rather than copying the same definitions over and over again in your scripts."
     ]
    },
    {
     "cell_type": "markdown",
     "metadata": {
      "slideshow": {
       "slide_type": "fragment"
      }
     },
     "source": [
      " Python has a way to put definitions of variables and functions into a file, which can then be imported from another script. This is called a *module*. "
     ]
    },
    {
     "cell_type": "heading",
     "level": 2,
     "metadata": {
      "slideshow": {
       "slide_type": "slide"
      }
     },
     "source": [
      "Syntax"
     ]
    },
    {
     "cell_type": "markdown",
     "metadata": {},
     "source": [
      "You can create a module simply by saving a script with a set of definitions and statements. The file name is the module name with the suffix `.py` appended."
     ]
    },
    {
     "cell_type": "markdown",
     "metadata": {
      "slideshow": {
       "slide_type": "slide"
      }
     },
     "source": [
      "For example, use a text editor to create a file called `util.py` in the current directory with the following contents:"
     ]
    },
    {
     "cell_type": "code",
     "collapsed": false,
     "input": [
      "\"\"\"Module with utility functions for testing if a number is odd or even\"\"\"\n",
      "\n",
      "def is_even(n):\n",
      "    \"\"\"Returns true if the number n is even.\"\"\"\n",
      "    if n % 2 == 0:\n",
      "        return True\n",
      "    else:\n",
      "        return False\n",
      "\n",
      "def is_odd(n):\n",
      "    \"\"\"Returns true if the number n is odd.\"\"\"\n",
      "    if is_even(n):\n",
      "        return False\n",
      "    else:\n",
      "        return True"
     ],
     "language": "python",
     "metadata": {},
     "outputs": [],
     "prompt_number": 5
    },
    {
     "cell_type": "markdown",
     "metadata": {
      "slideshow": {
       "slide_type": "slide"
      }
     },
     "source": [
      "Now, you import the module from the Python interpreter using:"
     ]
    },
    {
     "cell_type": "code",
     "collapsed": false,
     "input": [
      "import util"
     ],
     "language": "python",
     "metadata": {
      "slideshow": {
       "slide_type": "-"
      }
     },
     "outputs": [],
     "prompt_number": 8
    },
    {
     "cell_type": "markdown",
     "metadata": {
      "slideshow": {
       "slide_type": "fragment"
      }
     },
     "source": [
      "This does not add the names of the functions defined in `util` directly. You need to use the module name to access the functions:"
     ]
    },
    {
     "cell_type": "code",
     "collapsed": false,
     "input": [
      "util.is_even(4)"
     ],
     "language": "python",
     "metadata": {
      "slideshow": {
       "slide_type": "fragment"
      }
     },
     "outputs": [
      {
       "metadata": {},
       "output_type": "pyout",
       "prompt_number": 10,
       "text": [
        "True"
       ]
      }
     ],
     "prompt_number": 10
    },
    {
     "cell_type": "code",
     "collapsed": false,
     "input": [
      "util.is_odd(10)"
     ],
     "language": "python",
     "metadata": {
      "slideshow": {
       "slide_type": "fragment"
      }
     },
     "outputs": [
      {
       "metadata": {},
       "output_type": "pyout",
       "prompt_number": 21,
       "text": [
        "False"
       ]
      }
     ],
     "prompt_number": 21
    },
    {
     "cell_type": "markdown",
     "metadata": {
      "slideshow": {
       "slide_type": "slide"
      }
     },
     "source": [
      "Within a module, the name of the module is automatically available as the variable `__name__`:"
     ]
    },
    {
     "cell_type": "code",
     "collapsed": false,
     "input": [
      "print util.__name__"
     ],
     "language": "python",
     "metadata": {},
     "outputs": [
      {
       "output_type": "stream",
       "stream": "stdout",
       "text": [
        "util\n"
       ]
      }
     ],
     "prompt_number": 22
    },
    {
     "cell_type": "heading",
     "level": 2,
     "metadata": {
      "slideshow": {
       "slide_type": "skip"
      }
     },
     "source": [
      "More on importing modules"
     ]
    },
    {
     "cell_type": "markdown",
     "metadata": {
      "slideshow": {
       "slide_type": "slide"
      }
     },
     "source": [
      "There is a variant of the `import` statement that imports names from within a module directly. For example:"
     ]
    },
    {
     "cell_type": "code",
     "collapsed": false,
     "input": [
      "from util import is_even, is_odd\n",
      "is_even(4)"
     ],
     "language": "python",
     "metadata": {},
     "outputs": [
      {
       "metadata": {},
       "output_type": "pyout",
       "prompt_number": 15,
       "text": [
        "True"
       ]
      }
     ],
     "prompt_number": 15
    },
    {
     "cell_type": "markdown",
     "metadata": {
      "slideshow": {
       "slide_type": "fragment"
      }
     },
     "source": [
      "This does not introduce the module name from which the imports are taken (so in this example, `util` would not be defined)."
     ]
    },
    {
     "cell_type": "markdown",
     "metadata": {
      "slideshow": {
       "slide_type": "slide"
      }
     },
     "source": [
      "There is even a variant to import all names that a module defines:"
     ]
    },
    {
     "cell_type": "code",
     "collapsed": false,
     "input": [
      "from util import *\n",
      "is_even(4)"
     ],
     "language": "python",
     "metadata": {},
     "outputs": [
      {
       "metadata": {},
       "output_type": "pyout",
       "prompt_number": 18,
       "text": [
        "True"
       ]
      }
     ],
     "prompt_number": 18
    },
    {
     "cell_type": "markdown",
     "metadata": {
      "slideshow": {
       "slide_type": "fragment"
      }
     },
     "source": [
      "Note that in general the practice of importing `*` from a module is frowned upon, since it often causes poorly readable code. However, it is ok to use it to save typing in interactive sessions."
     ]
    },
    {
     "cell_type": "markdown",
     "metadata": {
      "slideshow": {
       "slide_type": "slide"
      }
     },
     "source": [
      "For efficiency reasons, each module is only imported once per Python session. Therefore, if you change your module, you must either restart Python, or use the `reload` function, e.g.:"
     ]
    },
    {
     "cell_type": "code",
     "collapsed": false,
     "input": [
      "reload(util)"
     ],
     "language": "python",
     "metadata": {},
     "outputs": [
      {
       "metadata": {},
       "output_type": "pyout",
       "prompt_number": 24,
       "text": [
        "<module 'util' from 'util.pyc'>"
       ]
      }
     ],
     "prompt_number": 24
    },
    {
     "cell_type": "heading",
     "level": 2,
     "metadata": {
      "slideshow": {
       "slide_type": "slide"
      }
     },
     "source": [
      "Executing modules as scripts"
     ]
    },
    {
     "cell_type": "markdown",
     "metadata": {},
     "source": [
      "When you run a Python module with"
     ]
    },
    {
     "cell_type": "code",
     "collapsed": false,
     "input": [
      "run util.py"
     ],
     "language": "python",
     "metadata": {},
     "outputs": [],
     "prompt_number": 26
    },
    {
     "cell_type": "markdown",
     "metadata": {},
     "source": [
      "the code in the module will be executed, just as if you imported it, but with the `__name__` set to `\"__main__\"`. That means that by adding this code at the end of your module:"
     ]
    },
    {
     "cell_type": "code",
     "collapsed": false,
     "input": [
      "if __name__ == \"__main__\":\n",
      "    print is_even(4)"
     ],
     "language": "python",
     "metadata": {},
     "outputs": [
      {
       "output_type": "stream",
       "stream": "stdout",
       "text": [
        "True\n"
       ]
      }
     ],
     "prompt_number": 28
    },
    {
     "cell_type": "markdown",
     "metadata": {},
     "source": [
      "You can make the file usable as a script as well as an importable module."
     ]
    },
    {
     "cell_type": "heading",
     "level": 2,
     "metadata": {
      "slideshow": {
       "slide_type": "slide"
      }
     },
     "source": [
      "The module search path"
     ]
    },
    {
     "cell_type": "markdown",
     "metadata": {},
     "source": [
      "When you execute the command `import util` is called, Python searches for a file named `util.py` in a list of directories given by the variable `sys.path`."
     ]
    },
    {
     "cell_type": "code",
     "collapsed": false,
     "input": [
      "import sys\n",
      "print sys.path"
     ],
     "language": "python",
     "metadata": {},
     "outputs": [
      {
       "output_type": "stream",
       "stream": "stdout",
       "text": [
        "['', '/home/gb/dev/astropy', '/home/gb/bin/anaconda/lib/python2.7/site-packages/SpiceyPy-0.5.2-py2.7.egg', '/home/gb/bin/anaconda/lib/python2.7/site-packages/astroquery-0.3.dev2393-py2.7.egg', '/home/gb/bin/anaconda/lib/python2.7/site-packages/html5lib-1.0b3-py2.7.egg', '/home/gb/dev/iphas-dr2', '/home/gb/dev/meteor-flux', '/home/gb/bin/anaconda/lib/python27.zip', '/home/gb/bin/anaconda/lib/python2.7', '/home/gb/bin/anaconda/lib/python2.7/plat-linux2', '/home/gb/bin/anaconda/lib/python2.7/lib-tk', '/home/gb/bin/anaconda/lib/python2.7/lib-old', '/home/gb/bin/anaconda/lib/python2.7/lib-dynload', '/home/gb/bin/anaconda/lib/python2.7/site-packages', '/home/gb/bin/anaconda/lib/python2.7/site-packages/PIL', '/home/gb/bin/anaconda/lib/python2.7/site-packages/runipy-0.1.0-py2.7.egg', '/home/gb/bin/anaconda/lib/python2.7/site-packages/setuptools-5.8-py2.7.egg', '/home/gb/bin/anaconda/lib/python2.7/site-packages/IPython/extensions']\n"
       ]
      }
     ],
     "prompt_number": 29
    },
    {
     "cell_type": "markdown",
     "metadata": {
      "slideshow": {
       "slide_type": "fragment"
      }
     },
     "source": [
      "The variable is initialised by default with the current directory (`''`) and a series of system defaults. If your module is not in the current directory, you may need to add the location where you store your modules, e.g.:"
     ]
    },
    {
     "cell_type": "code",
     "collapsed": false,
     "input": [
      "sys.path.append('/location/of/my/modules')"
     ],
     "language": "python",
     "metadata": {
      "slideshow": {
       "slide_type": "fragment"
      }
     },
     "outputs": [],
     "prompt_number": 31
    }
   ],
   "metadata": {}
  }
 ]
}